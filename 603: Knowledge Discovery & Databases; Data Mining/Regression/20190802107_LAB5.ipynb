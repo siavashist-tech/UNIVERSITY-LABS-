{
 "cells": [
  {
   "cell_type": "markdown",
   "id": "768f0c53",
   "metadata": {},
   "source": [
    "# **KDD - Experiment 05**\n",
    "\n",
    "*    **SIA VASHIST**\n",
    "*    PRN: 20190802107\n",
    "\n",
    "---"
   ]
  },
  {
   "cell_type": "markdown",
   "id": "150c128e",
   "metadata": {},
   "source": [
    "# Dataset : Advance House Price Prediction "
   ]
  },
  {
   "cell_type": "markdown",
   "id": "cb314bab",
   "metadata": {},
   "source": [
    "# Libraries used:\n",
    "> Numpy | scikit-learn | matplot.lib |Seaborn"
   ]
  },
  {
   "cell_type": "markdown",
   "id": "d37488ff",
   "metadata": {},
   "source": [
    "# <u> Linear Regression <b> without </b> using libraries </u>"
   ]
  },
  {
   "cell_type": "markdown",
   "id": "7fa0e54d",
   "metadata": {},
   "source": [
    "# 1. Import necessary libraries & Load the data"
   ]
  },
  {
   "cell_type": "code",
   "execution_count": 1,
   "id": "371f0b95",
   "metadata": {},
   "outputs": [
    {
     "data": {
      "text/html": [
       "<div>\n",
       "<style scoped>\n",
       "    .dataframe tbody tr th:only-of-type {\n",
       "        vertical-align: middle;\n",
       "    }\n",
       "\n",
       "    .dataframe tbody tr th {\n",
       "        vertical-align: top;\n",
       "    }\n",
       "\n",
       "    .dataframe thead th {\n",
       "        text-align: right;\n",
       "    }\n",
       "</style>\n",
       "<table border=\"1\" class=\"dataframe\">\n",
       "  <thead>\n",
       "    <tr style=\"text-align: right;\">\n",
       "      <th></th>\n",
       "      <th>Id</th>\n",
       "      <th>MSSubClass</th>\n",
       "      <th>MSZoning</th>\n",
       "      <th>LotFrontage</th>\n",
       "      <th>LotArea</th>\n",
       "      <th>Street</th>\n",
       "      <th>Alley</th>\n",
       "      <th>LotShape</th>\n",
       "      <th>LandContour</th>\n",
       "      <th>Utilities</th>\n",
       "      <th>...</th>\n",
       "      <th>PoolArea</th>\n",
       "      <th>PoolQC</th>\n",
       "      <th>Fence</th>\n",
       "      <th>MiscFeature</th>\n",
       "      <th>MiscVal</th>\n",
       "      <th>MoSold</th>\n",
       "      <th>YrSold</th>\n",
       "      <th>SaleType</th>\n",
       "      <th>SaleCondition</th>\n",
       "      <th>SalePrice</th>\n",
       "    </tr>\n",
       "  </thead>\n",
       "  <tbody>\n",
       "    <tr>\n",
       "      <th>0</th>\n",
       "      <td>1</td>\n",
       "      <td>60</td>\n",
       "      <td>RL</td>\n",
       "      <td>65.0</td>\n",
       "      <td>8450</td>\n",
       "      <td>Pave</td>\n",
       "      <td>NaN</td>\n",
       "      <td>Reg</td>\n",
       "      <td>Lvl</td>\n",
       "      <td>AllPub</td>\n",
       "      <td>...</td>\n",
       "      <td>0</td>\n",
       "      <td>NaN</td>\n",
       "      <td>NaN</td>\n",
       "      <td>NaN</td>\n",
       "      <td>0</td>\n",
       "      <td>2</td>\n",
       "      <td>2008</td>\n",
       "      <td>WD</td>\n",
       "      <td>Normal</td>\n",
       "      <td>208500</td>\n",
       "    </tr>\n",
       "    <tr>\n",
       "      <th>1</th>\n",
       "      <td>2</td>\n",
       "      <td>20</td>\n",
       "      <td>RL</td>\n",
       "      <td>80.0</td>\n",
       "      <td>9600</td>\n",
       "      <td>Pave</td>\n",
       "      <td>NaN</td>\n",
       "      <td>Reg</td>\n",
       "      <td>Lvl</td>\n",
       "      <td>AllPub</td>\n",
       "      <td>...</td>\n",
       "      <td>0</td>\n",
       "      <td>NaN</td>\n",
       "      <td>NaN</td>\n",
       "      <td>NaN</td>\n",
       "      <td>0</td>\n",
       "      <td>5</td>\n",
       "      <td>2007</td>\n",
       "      <td>WD</td>\n",
       "      <td>Normal</td>\n",
       "      <td>181500</td>\n",
       "    </tr>\n",
       "    <tr>\n",
       "      <th>2</th>\n",
       "      <td>3</td>\n",
       "      <td>60</td>\n",
       "      <td>RL</td>\n",
       "      <td>68.0</td>\n",
       "      <td>11250</td>\n",
       "      <td>Pave</td>\n",
       "      <td>NaN</td>\n",
       "      <td>IR1</td>\n",
       "      <td>Lvl</td>\n",
       "      <td>AllPub</td>\n",
       "      <td>...</td>\n",
       "      <td>0</td>\n",
       "      <td>NaN</td>\n",
       "      <td>NaN</td>\n",
       "      <td>NaN</td>\n",
       "      <td>0</td>\n",
       "      <td>9</td>\n",
       "      <td>2008</td>\n",
       "      <td>WD</td>\n",
       "      <td>Normal</td>\n",
       "      <td>223500</td>\n",
       "    </tr>\n",
       "    <tr>\n",
       "      <th>3</th>\n",
       "      <td>4</td>\n",
       "      <td>70</td>\n",
       "      <td>RL</td>\n",
       "      <td>60.0</td>\n",
       "      <td>9550</td>\n",
       "      <td>Pave</td>\n",
       "      <td>NaN</td>\n",
       "      <td>IR1</td>\n",
       "      <td>Lvl</td>\n",
       "      <td>AllPub</td>\n",
       "      <td>...</td>\n",
       "      <td>0</td>\n",
       "      <td>NaN</td>\n",
       "      <td>NaN</td>\n",
       "      <td>NaN</td>\n",
       "      <td>0</td>\n",
       "      <td>2</td>\n",
       "      <td>2006</td>\n",
       "      <td>WD</td>\n",
       "      <td>Abnorml</td>\n",
       "      <td>140000</td>\n",
       "    </tr>\n",
       "    <tr>\n",
       "      <th>4</th>\n",
       "      <td>5</td>\n",
       "      <td>60</td>\n",
       "      <td>RL</td>\n",
       "      <td>84.0</td>\n",
       "      <td>14260</td>\n",
       "      <td>Pave</td>\n",
       "      <td>NaN</td>\n",
       "      <td>IR1</td>\n",
       "      <td>Lvl</td>\n",
       "      <td>AllPub</td>\n",
       "      <td>...</td>\n",
       "      <td>0</td>\n",
       "      <td>NaN</td>\n",
       "      <td>NaN</td>\n",
       "      <td>NaN</td>\n",
       "      <td>0</td>\n",
       "      <td>12</td>\n",
       "      <td>2008</td>\n",
       "      <td>WD</td>\n",
       "      <td>Normal</td>\n",
       "      <td>250000</td>\n",
       "    </tr>\n",
       "    <tr>\n",
       "      <th>...</th>\n",
       "      <td>...</td>\n",
       "      <td>...</td>\n",
       "      <td>...</td>\n",
       "      <td>...</td>\n",
       "      <td>...</td>\n",
       "      <td>...</td>\n",
       "      <td>...</td>\n",
       "      <td>...</td>\n",
       "      <td>...</td>\n",
       "      <td>...</td>\n",
       "      <td>...</td>\n",
       "      <td>...</td>\n",
       "      <td>...</td>\n",
       "      <td>...</td>\n",
       "      <td>...</td>\n",
       "      <td>...</td>\n",
       "      <td>...</td>\n",
       "      <td>...</td>\n",
       "      <td>...</td>\n",
       "      <td>...</td>\n",
       "      <td>...</td>\n",
       "    </tr>\n",
       "    <tr>\n",
       "      <th>1455</th>\n",
       "      <td>1456</td>\n",
       "      <td>60</td>\n",
       "      <td>RL</td>\n",
       "      <td>62.0</td>\n",
       "      <td>7917</td>\n",
       "      <td>Pave</td>\n",
       "      <td>NaN</td>\n",
       "      <td>Reg</td>\n",
       "      <td>Lvl</td>\n",
       "      <td>AllPub</td>\n",
       "      <td>...</td>\n",
       "      <td>0</td>\n",
       "      <td>NaN</td>\n",
       "      <td>NaN</td>\n",
       "      <td>NaN</td>\n",
       "      <td>0</td>\n",
       "      <td>8</td>\n",
       "      <td>2007</td>\n",
       "      <td>WD</td>\n",
       "      <td>Normal</td>\n",
       "      <td>175000</td>\n",
       "    </tr>\n",
       "    <tr>\n",
       "      <th>1456</th>\n",
       "      <td>1457</td>\n",
       "      <td>20</td>\n",
       "      <td>RL</td>\n",
       "      <td>85.0</td>\n",
       "      <td>13175</td>\n",
       "      <td>Pave</td>\n",
       "      <td>NaN</td>\n",
       "      <td>Reg</td>\n",
       "      <td>Lvl</td>\n",
       "      <td>AllPub</td>\n",
       "      <td>...</td>\n",
       "      <td>0</td>\n",
       "      <td>NaN</td>\n",
       "      <td>MnPrv</td>\n",
       "      <td>NaN</td>\n",
       "      <td>0</td>\n",
       "      <td>2</td>\n",
       "      <td>2010</td>\n",
       "      <td>WD</td>\n",
       "      <td>Normal</td>\n",
       "      <td>210000</td>\n",
       "    </tr>\n",
       "    <tr>\n",
       "      <th>1457</th>\n",
       "      <td>1458</td>\n",
       "      <td>70</td>\n",
       "      <td>RL</td>\n",
       "      <td>66.0</td>\n",
       "      <td>9042</td>\n",
       "      <td>Pave</td>\n",
       "      <td>NaN</td>\n",
       "      <td>Reg</td>\n",
       "      <td>Lvl</td>\n",
       "      <td>AllPub</td>\n",
       "      <td>...</td>\n",
       "      <td>0</td>\n",
       "      <td>NaN</td>\n",
       "      <td>GdPrv</td>\n",
       "      <td>Shed</td>\n",
       "      <td>2500</td>\n",
       "      <td>5</td>\n",
       "      <td>2010</td>\n",
       "      <td>WD</td>\n",
       "      <td>Normal</td>\n",
       "      <td>266500</td>\n",
       "    </tr>\n",
       "    <tr>\n",
       "      <th>1458</th>\n",
       "      <td>1459</td>\n",
       "      <td>20</td>\n",
       "      <td>RL</td>\n",
       "      <td>68.0</td>\n",
       "      <td>9717</td>\n",
       "      <td>Pave</td>\n",
       "      <td>NaN</td>\n",
       "      <td>Reg</td>\n",
       "      <td>Lvl</td>\n",
       "      <td>AllPub</td>\n",
       "      <td>...</td>\n",
       "      <td>0</td>\n",
       "      <td>NaN</td>\n",
       "      <td>NaN</td>\n",
       "      <td>NaN</td>\n",
       "      <td>0</td>\n",
       "      <td>4</td>\n",
       "      <td>2010</td>\n",
       "      <td>WD</td>\n",
       "      <td>Normal</td>\n",
       "      <td>142125</td>\n",
       "    </tr>\n",
       "    <tr>\n",
       "      <th>1459</th>\n",
       "      <td>1460</td>\n",
       "      <td>20</td>\n",
       "      <td>RL</td>\n",
       "      <td>75.0</td>\n",
       "      <td>9937</td>\n",
       "      <td>Pave</td>\n",
       "      <td>NaN</td>\n",
       "      <td>Reg</td>\n",
       "      <td>Lvl</td>\n",
       "      <td>AllPub</td>\n",
       "      <td>...</td>\n",
       "      <td>0</td>\n",
       "      <td>NaN</td>\n",
       "      <td>NaN</td>\n",
       "      <td>NaN</td>\n",
       "      <td>0</td>\n",
       "      <td>6</td>\n",
       "      <td>2008</td>\n",
       "      <td>WD</td>\n",
       "      <td>Normal</td>\n",
       "      <td>147500</td>\n",
       "    </tr>\n",
       "  </tbody>\n",
       "</table>\n",
       "<p>1460 rows × 81 columns</p>\n",
       "</div>"
      ],
      "text/plain": [
       "        Id  MSSubClass MSZoning  LotFrontage  LotArea Street Alley LotShape  \\\n",
       "0        1          60       RL         65.0     8450   Pave   NaN      Reg   \n",
       "1        2          20       RL         80.0     9600   Pave   NaN      Reg   \n",
       "2        3          60       RL         68.0    11250   Pave   NaN      IR1   \n",
       "3        4          70       RL         60.0     9550   Pave   NaN      IR1   \n",
       "4        5          60       RL         84.0    14260   Pave   NaN      IR1   \n",
       "...    ...         ...      ...          ...      ...    ...   ...      ...   \n",
       "1455  1456          60       RL         62.0     7917   Pave   NaN      Reg   \n",
       "1456  1457          20       RL         85.0    13175   Pave   NaN      Reg   \n",
       "1457  1458          70       RL         66.0     9042   Pave   NaN      Reg   \n",
       "1458  1459          20       RL         68.0     9717   Pave   NaN      Reg   \n",
       "1459  1460          20       RL         75.0     9937   Pave   NaN      Reg   \n",
       "\n",
       "     LandContour Utilities  ... PoolArea PoolQC  Fence MiscFeature MiscVal  \\\n",
       "0            Lvl    AllPub  ...        0    NaN    NaN         NaN       0   \n",
       "1            Lvl    AllPub  ...        0    NaN    NaN         NaN       0   \n",
       "2            Lvl    AllPub  ...        0    NaN    NaN         NaN       0   \n",
       "3            Lvl    AllPub  ...        0    NaN    NaN         NaN       0   \n",
       "4            Lvl    AllPub  ...        0    NaN    NaN         NaN       0   \n",
       "...          ...       ...  ...      ...    ...    ...         ...     ...   \n",
       "1455         Lvl    AllPub  ...        0    NaN    NaN         NaN       0   \n",
       "1456         Lvl    AllPub  ...        0    NaN  MnPrv         NaN       0   \n",
       "1457         Lvl    AllPub  ...        0    NaN  GdPrv        Shed    2500   \n",
       "1458         Lvl    AllPub  ...        0    NaN    NaN         NaN       0   \n",
       "1459         Lvl    AllPub  ...        0    NaN    NaN         NaN       0   \n",
       "\n",
       "     MoSold YrSold  SaleType  SaleCondition  SalePrice  \n",
       "0         2   2008        WD         Normal     208500  \n",
       "1         5   2007        WD         Normal     181500  \n",
       "2         9   2008        WD         Normal     223500  \n",
       "3         2   2006        WD        Abnorml     140000  \n",
       "4        12   2008        WD         Normal     250000  \n",
       "...     ...    ...       ...            ...        ...  \n",
       "1455      8   2007        WD         Normal     175000  \n",
       "1456      2   2010        WD         Normal     210000  \n",
       "1457      5   2010        WD         Normal     266500  \n",
       "1458      4   2010        WD         Normal     142125  \n",
       "1459      6   2008        WD         Normal     147500  \n",
       "\n",
       "[1460 rows x 81 columns]"
      ]
     },
     "execution_count": 1,
     "metadata": {},
     "output_type": "execute_result"
    }
   ],
   "source": [
    "import pandas as pd\n",
    "import numpy as np\n",
    "import matplotlib.pyplot as plt\n",
    "\n",
    "# Load the data\n",
    "train_df = pd.read_csv(r'C:\\sia\\train.csv')\n",
    "train_df"
   ]
  },
  {
   "cell_type": "markdown",
   "id": "a0524436",
   "metadata": {},
   "source": [
    "# 2. Extract predictor and response variables\n",
    "For simplicity, we'll focus on just one variable as the predictor (also known as the independent variable) and one variable as the response (also known as the dependent variable). Let's choose the 'GrLivArea' variable as the predictor and the 'SalePrice' variable as the response."
   ]
  },
  {
   "cell_type": "code",
   "execution_count": 2,
   "id": "e5ba890a",
   "metadata": {},
   "outputs": [],
   "source": [
    "A_train = train_df[['GrLivArea']].values\n",
    "B_train = train_df['SalePrice'].values"
   ]
  },
  {
   "cell_type": "markdown",
   "id": "a868a473",
   "metadata": {},
   "source": [
    "# 3. Normalize Input Feature\n",
    "we need to normalize the input feature to have zero mean and unit variance. This is important because some features may have very different scales, which can cause numerical problems during optimization."
   ]
  },
  {
   "cell_type": "code",
   "execution_count": 3,
   "id": "20ce58fc",
   "metadata": {},
   "outputs": [
    {
     "data": {
      "text/plain": [
       "array([[ 0.37033344],\n",
       "       [-0.48251191],\n",
       "       [ 0.51501256],\n",
       "       ...,\n",
       "       [ 1.56964722],\n",
       "       [-0.83278768],\n",
       "       [-0.49393395]])"
      ]
     },
     "execution_count": 3,
     "metadata": {},
     "output_type": "execute_result"
    }
   ],
   "source": [
    "def normalize(A):\n",
    "    A_mean = np.mean(A, axis=0)\n",
    "    A_std = np.std(A, axis=0)\n",
    "    return (A - A_mean) / A_std\n",
    "\n",
    "A_train = normalize(A_train)\n",
    "A_train"
   ]
  },
  {
   "cell_type": "markdown",
   "id": "233116c5",
   "metadata": {},
   "source": [
    "# 4. Add Intercept Term to Input Feature\n",
    "We need to add a column of ones to the input feature matrix to represent the intercept term:"
   ]
  },
  {
   "cell_type": "code",
   "execution_count": 4,
   "id": "e61cf071",
   "metadata": {},
   "outputs": [
    {
     "data": {
      "text/plain": [
       "array([[ 1.        ,  0.37033344],\n",
       "       [ 1.        , -0.48251191],\n",
       "       [ 1.        ,  0.51501256],\n",
       "       ...,\n",
       "       [ 1.        ,  1.56964722],\n",
       "       [ 1.        , -0.83278768],\n",
       "       [ 1.        , -0.49393395]])"
      ]
     },
     "execution_count": 4,
     "metadata": {},
     "output_type": "execute_result"
    }
   ],
   "source": [
    "A_train = np.concatenate((np.ones((A_train.shape[0], 1)), A_train), axis=1)\n",
    "A_train"
   ]
  },
  {
   "cell_type": "markdown",
   "id": "976edbe8",
   "metadata": {},
   "source": [
    "# 5. Define Cost Function and Gradient\n",
    "defining the cost function (mean squared error) and the gradient of the cost function with respect to the parameters (theta):"
   ]
  },
  {
   "cell_type": "code",
   "execution_count": 5,
   "id": "8c20e187",
   "metadata": {},
   "outputs": [],
   "source": [
    "def mse_cost(X, y, theta):\n",
    "    m = y.shape[0]\n",
    "    h = X.dot(theta)\n",
    "    J = (1 / (2 * m)) * np.sum((h - y) ** 2)\n",
    "    return J\n",
    "\n",
    "def mse_gradient(X, y, theta):\n",
    "    m = y.shape[0]\n",
    "    h = X.dot(theta)\n",
    "    grad = (1 / m) * (X.T.dot(h - y))\n",
    "    return grad\n",
    "\n",
    "#initialize the parameters theta to random values and set the learning rate and number of iterations:\n",
    "theta = np.random.randn(2)\n",
    "alpha = 0.01\n",
    "num_iters = 1000"
   ]
  },
  {
   "cell_type": "markdown",
   "id": "63ad918a",
   "metadata": {},
   "source": [
    "> # Observation:\n",
    "> This formula is based on the method of least squares, which is a widely used technique for fitting a linear regression line to a set of data points. The idea is to minimize the sum of the squared differences between the predicted values of the response variable and the actual values. The slope and intercept of the line of best fit are chosen to minimize this sum of squared differences."
   ]
  },
  {
   "cell_type": "markdown",
   "id": "e82c720e",
   "metadata": {},
   "source": [
    "# 6. Train Model with Gradient Descent\n",
    "training the linear regression model by repeatedly computing the gradient of the cost function and updating the parameters using gradient descent"
   ]
  },
  {
   "cell_type": "code",
   "execution_count": 6,
   "id": "48b80156",
   "metadata": {},
   "outputs": [
    {
     "name": "stdout",
     "output_type": "stream",
     "text": [
      "Iteration 0, Cost: 19162509793.54\n",
      "Iteration 100, Cost: 3926970850.27\n",
      "Iteration 200, Cost: 1885718296.36\n",
      "Iteration 300, Cost: 1612231942.89\n",
      "Iteration 400, Cost: 1575590330.17\n",
      "Iteration 500, Cost: 1570681098.81\n",
      "Iteration 600, Cost: 1570023361.59\n",
      "Iteration 700, Cost: 1569935238.17\n",
      "Iteration 800, Cost: 1569923431.42\n",
      "Iteration 900, Cost: 1569921849.56\n",
      "Final Parameters: [180913.38527792  56273.19024004]\n"
     ]
    }
   ],
   "source": [
    "for i in range(num_iters):\n",
    "    grad = mse_gradient(A_train, B_train, theta)\n",
    "    theta -= alpha * grad\n",
    "    cost = mse_cost(A_train, B_train, theta)\n",
    "    if i % 100 == 0:\n",
    "        print(f'Iteration {i}, Cost: {cost:.2f}')\n",
    "\n",
    "print(f'Final Parameters: {theta}')"
   ]
  },
  {
   "cell_type": "markdown",
   "id": "6aff38a1",
   "metadata": {},
   "source": [
    "# 7. Visualize the line of best fit on the scatter plot"
   ]
  },
  {
   "cell_type": "code",
   "execution_count": 7,
   "id": "cfc470b2",
   "metadata": {
    "scrolled": true
   },
   "outputs": [
    {
     "data": {
      "image/png": "[encoded data removed]",
      "text/plain": [
       "<Figure size 432x288 with 1 Axes>"
      ]
     },
     "metadata": {
      "needs_background": "light"
     },
     "output_type": "display_data"
    }
   ],
   "source": [
    "plt.scatter(A_train[:, 1], B_train, alpha=0.5)\n",
    "x_line = np.linspace(A_train[:, 1].min(), A_train[:, 1].max(), 100)\n",
    "y_line = theta[0] + theta[1] * x_line\n",
    "plt.plot(x_line, y_line, color='r')\n",
    "plt.xlabel('GrLivArea (normalized)')\n",
    "plt.ylabel('SalePrice')\n",
    "plt.show()"
   ]
  },
  {
   "cell_type": "markdown",
   "id": "739bded1",
   "metadata": {},
   "source": [
    "---\n",
    "# <u> Linear Regression using libraries</u>\n"
   ]
  },
  {
   "cell_type": "markdown",
   "id": "c8f521ae",
   "metadata": {},
   "source": [
    "# 1. Import Libraries"
   ]
  },
  {
   "cell_type": "code",
   "execution_count": 8,
   "id": "c96c1bf4",
   "metadata": {},
   "outputs": [],
   "source": [
    "import pandas as pd\n",
    "import numpy as np\n",
    "import matplotlib.pyplot as plt\n",
    "import seaborn as sns\n",
    "from sklearn.linear_model import LinearRegression\n",
    "from sklearn.model_selection import train_test_split\n",
    "from sklearn.metrics import mean_squared_error"
   ]
  },
  {
   "cell_type": "markdown",
   "id": "b63063b3",
   "metadata": {},
   "source": [
    "# 2. Load the Dataset"
   ]
  },
  {
   "cell_type": "code",
   "execution_count": 9,
   "id": "a47dceaf",
   "metadata": {},
   "outputs": [
    {
     "data": {
      "text/html": [
       "<div>\n",
       "<style scoped>\n",
       "    .dataframe tbody tr th:only-of-type {\n",
       "        vertical-align: middle;\n",
       "    }\n",
       "\n",
       "    .dataframe tbody tr th {\n",
       "        vertical-align: top;\n",
       "    }\n",
       "\n",
       "    .dataframe thead th {\n",
       "        text-align: right;\n",
       "    }\n",
       "</style>\n",
       "<table border=\"1\" class=\"dataframe\">\n",
       "  <thead>\n",
       "    <tr style=\"text-align: right;\">\n",
       "      <th></th>\n",
       "      <th>Id</th>\n",
       "      <th>MSSubClass</th>\n",
       "      <th>MSZoning</th>\n",
       "      <th>LotFrontage</th>\n",
       "      <th>LotArea</th>\n",
       "      <th>Street</th>\n",
       "      <th>Alley</th>\n",
       "      <th>LotShape</th>\n",
       "      <th>LandContour</th>\n",
       "      <th>Utilities</th>\n",
       "      <th>...</th>\n",
       "      <th>PoolArea</th>\n",
       "      <th>PoolQC</th>\n",
       "      <th>Fence</th>\n",
       "      <th>MiscFeature</th>\n",
       "      <th>MiscVal</th>\n",
       "      <th>MoSold</th>\n",
       "      <th>YrSold</th>\n",
       "      <th>SaleType</th>\n",
       "      <th>SaleCondition</th>\n",
       "      <th>SalePrice</th>\n",
       "    </tr>\n",
       "  </thead>\n",
       "  <tbody>\n",
       "    <tr>\n",
       "      <th>0</th>\n",
       "      <td>1</td>\n",
       "      <td>60</td>\n",
       "      <td>RL</td>\n",
       "      <td>65.0</td>\n",
       "      <td>8450</td>\n",
       "      <td>Pave</td>\n",
       "      <td>NaN</td>\n",
       "      <td>Reg</td>\n",
       "      <td>Lvl</td>\n",
       "      <td>AllPub</td>\n",
       "      <td>...</td>\n",
       "      <td>0</td>\n",
       "      <td>NaN</td>\n",
       "      <td>NaN</td>\n",
       "      <td>NaN</td>\n",
       "      <td>0</td>\n",
       "      <td>2</td>\n",
       "      <td>2008</td>\n",
       "      <td>WD</td>\n",
       "      <td>Normal</td>\n",
       "      <td>208500</td>\n",
       "    </tr>\n",
       "    <tr>\n",
       "      <th>1</th>\n",
       "      <td>2</td>\n",
       "      <td>20</td>\n",
       "      <td>RL</td>\n",
       "      <td>80.0</td>\n",
       "      <td>9600</td>\n",
       "      <td>Pave</td>\n",
       "      <td>NaN</td>\n",
       "      <td>Reg</td>\n",
       "      <td>Lvl</td>\n",
       "      <td>AllPub</td>\n",
       "      <td>...</td>\n",
       "      <td>0</td>\n",
       "      <td>NaN</td>\n",
       "      <td>NaN</td>\n",
       "      <td>NaN</td>\n",
       "      <td>0</td>\n",
       "      <td>5</td>\n",
       "      <td>2007</td>\n",
       "      <td>WD</td>\n",
       "      <td>Normal</td>\n",
       "      <td>181500</td>\n",
       "    </tr>\n",
       "    <tr>\n",
       "      <th>2</th>\n",
       "      <td>3</td>\n",
       "      <td>60</td>\n",
       "      <td>RL</td>\n",
       "      <td>68.0</td>\n",
       "      <td>11250</td>\n",
       "      <td>Pave</td>\n",
       "      <td>NaN</td>\n",
       "      <td>IR1</td>\n",
       "      <td>Lvl</td>\n",
       "      <td>AllPub</td>\n",
       "      <td>...</td>\n",
       "      <td>0</td>\n",
       "      <td>NaN</td>\n",
       "      <td>NaN</td>\n",
       "      <td>NaN</td>\n",
       "      <td>0</td>\n",
       "      <td>9</td>\n",
       "      <td>2008</td>\n",
       "      <td>WD</td>\n",
       "      <td>Normal</td>\n",
       "      <td>223500</td>\n",
       "    </tr>\n",
       "    <tr>\n",
       "      <th>3</th>\n",
       "      <td>4</td>\n",
       "      <td>70</td>\n",
       "      <td>RL</td>\n",
       "      <td>60.0</td>\n",
       "      <td>9550</td>\n",
       "      <td>Pave</td>\n",
       "      <td>NaN</td>\n",
       "      <td>IR1</td>\n",
       "      <td>Lvl</td>\n",
       "      <td>AllPub</td>\n",
       "      <td>...</td>\n",
       "      <td>0</td>\n",
       "      <td>NaN</td>\n",
       "      <td>NaN</td>\n",
       "      <td>NaN</td>\n",
       "      <td>0</td>\n",
       "      <td>2</td>\n",
       "      <td>2006</td>\n",
       "      <td>WD</td>\n",
       "      <td>Abnorml</td>\n",
       "      <td>140000</td>\n",
       "    </tr>\n",
       "    <tr>\n",
       "      <th>4</th>\n",
       "      <td>5</td>\n",
       "      <td>60</td>\n",
       "      <td>RL</td>\n",
       "      <td>84.0</td>\n",
       "      <td>14260</td>\n",
       "      <td>Pave</td>\n",
       "      <td>NaN</td>\n",
       "      <td>IR1</td>\n",
       "      <td>Lvl</td>\n",
       "      <td>AllPub</td>\n",
       "      <td>...</td>\n",
       "      <td>0</td>\n",
       "      <td>NaN</td>\n",
       "      <td>NaN</td>\n",
       "      <td>NaN</td>\n",
       "      <td>0</td>\n",
       "      <td>12</td>\n",
       "      <td>2008</td>\n",
       "      <td>WD</td>\n",
       "      <td>Normal</td>\n",
       "      <td>250000</td>\n",
       "    </tr>\n",
       "  </tbody>\n",
       "</table>\n",
       "<p>5 rows × 81 columns</p>\n",
       "</div>"
      ],
      "text/plain": [
       "   Id  MSSubClass MSZoning  LotFrontage  LotArea Street Alley LotShape  \\\n",
       "0   1          60       RL         65.0     8450   Pave   NaN      Reg   \n",
       "1   2          20       RL         80.0     9600   Pave   NaN      Reg   \n",
       "2   3          60       RL         68.0    11250   Pave   NaN      IR1   \n",
       "3   4          70       RL         60.0     9550   Pave   NaN      IR1   \n",
       "4   5          60       RL         84.0    14260   Pave   NaN      IR1   \n",
       "\n",
       "  LandContour Utilities  ... PoolArea PoolQC Fence MiscFeature MiscVal MoSold  \\\n",
       "0         Lvl    AllPub  ...        0    NaN   NaN         NaN       0      2   \n",
       "1         Lvl    AllPub  ...        0    NaN   NaN         NaN       0      5   \n",
       "2         Lvl    AllPub  ...        0    NaN   NaN         NaN       0      9   \n",
       "3         Lvl    AllPub  ...        0    NaN   NaN         NaN       0      2   \n",
       "4         Lvl    AllPub  ...        0    NaN   NaN         NaN       0     12   \n",
       "\n",
       "  YrSold  SaleType  SaleCondition  SalePrice  \n",
       "0   2008        WD         Normal     208500  \n",
       "1   2007        WD         Normal     181500  \n",
       "2   2008        WD         Normal     223500  \n",
       "3   2006        WD        Abnorml     140000  \n",
       "4   2008        WD         Normal     250000  \n",
       "\n",
       "[5 rows x 81 columns]"
      ]
     },
     "execution_count": 9,
     "metadata": {},
     "output_type": "execute_result"
    }
   ],
   "source": [
    "df = pd.read_csv(r'C:\\sia\\train.csv')\n",
    "df.head()"
   ]
  },
  {
   "cell_type": "markdown",
   "id": "31d74f96",
   "metadata": {},
   "source": [
    "# 3. Extract predictor and response variables\n",
    "Using the 'GrLivArea' column as the predictor variable and the 'SalePrice' column as the target variable"
   ]
  },
  {
   "cell_type": "code",
   "execution_count": 10,
   "id": "e1a8ac7d",
   "metadata": {},
   "outputs": [],
   "source": [
    "X = df['GrLivArea'].values.reshape(-1,1)\n",
    "y = df['SalePrice'].values.reshape(-1,1)"
   ]
  },
  {
   "cell_type": "markdown",
   "id": "c2503c95",
   "metadata": {},
   "source": [
    "# 4. Split the Dataset\n",
    "<b> Using a 70-30 Split </b>\n",
    "\n",
    "We set the test size to 0.3, meaning that 30% of the data is used for testing."
   ]
  },
  {
   "cell_type": "code",
   "execution_count": 11,
   "id": "df7481b5",
   "metadata": {},
   "outputs": [],
   "source": [
    "X_train, X_test, y_train, y_test = train_test_split(X, y, test_size=0.3, random_state=0)"
   ]
  },
  {
   "cell_type": "markdown",
   "id": "bcb521d6",
   "metadata": {},
   "source": [
    "# 5. Fit the Model\n",
    "creating an instance of the LinearRegression class and fit the model:"
   ]
  },
  {
   "cell_type": "code",
   "execution_count": 12,
   "id": "e5ed985a",
   "metadata": {},
   "outputs": [
    {
     "data": {
      "text/plain": [
       "LinearRegression()"
      ]
     },
     "execution_count": 12,
     "metadata": {},
     "output_type": "execute_result"
    }
   ],
   "source": [
    "regressor = LinearRegression()\n",
    "regressor.fit(X_train, y_train)"
   ]
  },
  {
   "cell_type": "markdown",
   "id": "7e9eb1ab",
   "metadata": {},
   "source": [
    "# 6. Make Predictions using testing set"
   ]
  },
  {
   "cell_type": "code",
   "execution_count": 13,
   "id": "f388f4f5",
   "metadata": {},
   "outputs": [],
   "source": [
    "y_pred = regressor.predict(X_test)"
   ]
  },
  {
   "cell_type": "markdown",
   "id": "eb38634b",
   "metadata": {},
   "source": [
    "#  7. Plot the regression line"
   ]
  },
  {
   "cell_type": "code",
   "execution_count": 14,
   "id": "a51d8f49",
   "metadata": {},
   "outputs": [
    {
     "data": {
      "image/png": "[encoded data removed]",
      "text/plain": [
       "<Figure size 432x288 with 1 Axes>"
      ]
     },
     "metadata": {
      "needs_background": "light"
     },
     "output_type": "display_data"
    }
   ],
   "source": [
    "plt.scatter(X_train, y_train, color='red')\n",
    "plt.plot(X_train, regressor.predict(X_train), color='blue')\n",
    "plt.title('GrLivArea vs SalePrice (Training set)')\n",
    "plt.xlabel('GrLivArea')\n",
    "plt.ylabel('SalePrice')\n",
    "plt.show()"
   ]
  },
  {
   "cell_type": "markdown",
   "id": "cee979bf",
   "metadata": {},
   "source": [
    "# 8. Evaluate the Model\n",
    "\n",
    "we evaluate the model's performance using the mean_squared_error() method from the sklearn.metrics library."
   ]
  },
  {
   "cell_type": "code",
   "execution_count": 15,
   "id": "ed9de5d1",
   "metadata": {},
   "outputs": [
    {
     "name": "stdout",
     "output_type": "stream",
     "text": [
      "Mean Squared Error: 3728458191.95017\n"
     ]
    }
   ],
   "source": [
    "print('Mean Squared Error:', mean_squared_error(y_test, y_pred))"
   ]
  },
  {
   "cell_type": "markdown",
   "id": "428d885f",
   "metadata": {},
   "source": [
    "# Conclusion:\n",
    "> Hence, this code demonstrates two simple examples of how to compute simple linear regression. The first example involves manually performing the calculation without any external libraries, while the second example involves importing libraries, resulting in the same output."
   ]
  },
  {
   "cell_type": "markdown",
   "id": "265b607d",
   "metadata": {},
   "source": [
    "# <u> Logistic Regression <b> without </b> using libraries </u>"
   ]
  },
  {
   "cell_type": "code",
   "execution_count": 16,
   "id": "7e1233f2",
   "metadata": {},
   "outputs": [
    {
     "name": "stdout",
     "output_type": "stream",
     "text": [
      "[1.19033388e+08 1.19033388e+08 1.19033388e+08 ... 1.19033388e+08\n",
      " 1.19033388e+08 1.19033388e+08]\n"
     ]
    }
   ],
   "source": [
    "import pandas as pd\n",
    "import numpy as np\n",
    "import math\n",
    "import matplotlib.pyplot as plt\n",
    "\n",
    "# Load the data\n",
    "logistic = pd.read_csv(r'C:\\sia\\train.csv')\n",
    "\n",
    "# Define the target variable\n",
    "target = 'SalePrice'\n",
    "\n",
    "# Define the predictor variable\n",
    "predictor = 'OverallQual'\n",
    "\n",
    "# Define a function to calculate the sigmoid function\n",
    "def sigmoid(z):\n",
    "    return 1 / (1 + np.exp(-z))\n",
    "\n",
    "# Defining a function to perform logistic regression\n",
    "def logistic_regression(logistic, predictor, target, learning_rate, num_iterations):\n",
    "    \n",
    "    # Initialize the weights to zero\n",
    "    weights = np.zeros(logistic[predictor].shape)\n",
    "    \n",
    "    # Loop through the number of iterations\n",
    "    for i in range(num_iterations):\n",
    "        \n",
    "        # Calculate the predicted values\n",
    "        z = np.dot(logistic[predictor], weights)\n",
    "        y_hat = sigmoid(z)\n",
    "        \n",
    "        # Calculate the error\n",
    "        error = y_hat - logistic[target]\n",
    "        \n",
    "        # Calculate the gradient\n",
    "        gradient = np.dot(logistic[predictor].T, error) / len(logistic[predictor])\n",
    "        \n",
    "        # Update the weights\n",
    "        weights -= learning_rate * gradient\n",
    "    \n",
    "    return weights\n",
    "\n",
    "# Define the learning rate and number of iterations\n",
    "learning_rate = 0.1\n",
    "num_iterations = 1000\n",
    "\n",
    "# Call the logistic regression function\n",
    "weights = logistic_regression(logistic, predictor, target, learning_rate, num_iterations)\n",
    "\n",
    "# Print the weights\n",
    "print(weights)"
   ]
  },
  {
   "cell_type": "code",
   "execution_count": 17,
   "id": "dba403ec",
   "metadata": {},
   "outputs": [
    {
     "data": {
      "image/png": "[encoded data removed]",
      "text/plain": [
       "<Figure size 432x288 with 1 Axes>"
      ]
     },
     "metadata": {
      "needs_background": "light"
     },
     "output_type": "display_data"
    }
   ],
   "source": [
    "# Plot the logistic regression curve\n",
    "plt.scatter(logistic[predictor], logistic[target])\n",
    "x1 = np.linspace(logistic[predictor].min(), logistic[predictor].max(), 100)\n",
    "z1 = weights[0] + weights[1] * x1\n",
    "y1 = sigmoid(z1)\n",
    "plt.plot(x1, y1, color='red')\n",
    "plt.xlabel(predictor)\n",
    "plt.ylabel(target)\n",
    "plt.title('Logistic Regression')\n",
    "plt.show()"
   ]
  },
  {
   "cell_type": "markdown",
   "id": "102550d5",
   "metadata": {},
   "source": [
    "> # Observation:\n",
    "To visualize the performance of the logistic regression model, we can plot the decision boundary that separates the two classes."
   ]
  },
  {
   "cell_type": "markdown",
   "id": "e3befd33",
   "metadata": {},
   "source": [
    "# <u> Logistic Regression <b> with</b> using libraries </u>"
   ]
  },
  {
   "cell_type": "code",
   "execution_count": 24,
   "id": "e85574e0",
   "metadata": {
    "scrolled": true
   },
   "outputs": [
    {
     "name": "stdout",
     "output_type": "stream",
     "text": [
      "[[0 0 0 ... 0 0 0]\n",
      " [0 0 0 ... 0 0 0]\n",
      " [0 0 0 ... 0 0 0]\n",
      " ...\n",
      " [0 0 0 ... 0 0 0]\n",
      " [0 0 0 ... 0 0 0]\n",
      " [0 0 0 ... 0 0 0]]\n"
     ]
    }
   ],
   "source": [
    "# Import necessary libraries\n",
    "import pandas as pd\n",
    "import numpy as np\n",
    "import matplotlib.pyplot as plt\n",
    "from sklearn.linear_model import LogisticRegression\n",
    "from sklearn.model_selection import train_test_split\n",
    "from sklearn.metrics import confusion_matrix\n",
    "\n",
    "# Load the dataset\n",
    "logistic_df = pd.read_csv(r'C:\\sia\\train.csv')\n",
    "\n",
    "# Define the target variable and the predictor variable\n",
    "targett = 'SalePrice'\n",
    "predictorr = 'OverallQual'\n",
    "\n",
    "# Split the dataset into training and testing sets\n",
    "S_train, S_test, T_train, T_test = train_test_split(df[predictorr].values.reshape(-1, 1), df[targett].values, test_size=0.2, random_state=42)\n",
    "\n",
    "# Train the logistic regression model\n",
    "clf = LogisticRegression(random_state=42)\n",
    "clf.fit(S_train, T_train)\n",
    "\n",
    "# Make predictions on the testing set\n",
    "y_pred0 = clf.predict(S_test)\n",
    "\n",
    "# Evaluate the model using a confusion matrix\n",
    "cm = confusion_matrix(T_test, y_pred0)\n",
    "print(cm)\n",
    "\n",
    "# Filter warnings\n",
    "import warnings\n",
    "from sklearn.exceptions import ConvergenceWarning\n",
    "from sklearn.utils import DataConversionWarning\n",
    "from sklearn.linear_model import LogisticRegression\n",
    "\n",
    "# Create logistic regression model\n",
    "logreg = LogisticRegression()\n",
    "\n",
    "# Ignore warnings\n",
    "warnings.filterwarnings(\"ignore\", category=ConvergenceWarning)\n",
    "warnings.filterwarnings(\"ignore\", category=DataConversionWarning)\n",
    "\n",
    "# Fit the model to the data\n",
    "logreg.fit(X, y)\n",
    "\n",
    "# Restore warnings\n",
    "warnings.filterwarnings(\"default\", category=ConvergenceWarning)\n",
    "warnings.filterwarnings(\"default\", category=DataConversionWarning)\n"
   ]
  },
  {
   "cell_type": "code",
   "execution_count": 19,
   "id": "ab858403",
   "metadata": {},
   "outputs": [
    {
     "data": {
      "image/png": "[encoded data removed]",
      "text/plain": [
       "<Figure size 432x288 with 1 Axes>"
      ]
     },
     "metadata": {
      "needs_background": "light"
     },
     "output_type": "display_data"
    }
   ],
   "source": [
    "# Visualize the results\n",
    "plt.scatter(S_test, T_test, color='blue')\n",
    "plt.plot(S_test, clf.predict(S_test), color='red')\n",
    "plt.title('Simple Logistic Regression')\n",
    "plt.xlabel(predictor)\n",
    "plt.ylabel(target)\n",
    "plt.show()"
   ]
  },
  {
   "cell_type": "markdown",
   "id": "c3a7a2b7",
   "metadata": {},
   "source": [
    "# Conclusion:\n",
    "We performed linear regression and logistic regression on the House Prices dataset from Kaggle. We implemented these regression models by creating functions and by using the NumPy and sklearn libraries. We also validated the results using various evaluation metrics such as Mean Squared Error (MSE), and Confusion Matrix. Overall, the results were satisfactory, and we were able to predict the target variables with a reasonable degree of accuracy."
   ]
  }
 ],
 "metadata": {
  "kernelspec": {
   "display_name": "Python 3 (ipykernel)",
   "language": "python",
   "name": "python3"
  },
  "language_info": {
   "codemirror_mode": {
    "name": "ipython",
    "version": 3
   },
   "file_extension": ".py",
   "mimetype": "text/x-python",
   "name": "python",
   "nbconvert_exporter": "python",
   "pygments_lexer": "ipython3",
   "version": "3.9.12"
  }
 },
 "nbformat": 4,
 "nbformat_minor": 5
}
