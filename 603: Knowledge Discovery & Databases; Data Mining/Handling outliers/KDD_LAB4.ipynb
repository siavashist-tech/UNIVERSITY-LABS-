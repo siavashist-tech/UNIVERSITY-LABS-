{
 "cells": [
  {
   "cell_type": "markdown",
   "id": "a092c1d6",
   "metadata": {},
   "source": [
    "# **KDD - Experiment 04**\n",
    "\n",
    "*    **SIA VASHIST**\n",
    "*    PRN: 20190802107\n",
    "\n",
    "---"
   ]
  },
  {
   "cell_type": "markdown",
   "id": "82f14011",
   "metadata": {},
   "source": [
    "### **Detecting outliers using standard deviation :**"
   ]
  },
  {
   "cell_type": "code",
   "execution_count": 1,
   "id": "21f2ad60",
   "metadata": {},
   "outputs": [],
   "source": [
    "import numpy as np\n",
    "import pandas as pd\n",
    "import seaborn as sns"
   ]
  },
  {
   "cell_type": "code",
   "execution_count": 2,
   "id": "37e203c2",
   "metadata": {},
   "outputs": [],
   "source": [
    "def generate_scores(mean=60,std_dev=12,num_samples=200):\n",
    "    np.random.seed(27)\n",
    "    scores = np.random.normal(loc=mean,scale=std_dev,size=num_samples)\n",
    "    scores = np.round(scores, decimals=0)\n",
    "    return scores\n",
    "scores_data = generate_scores()"
   ]
  },
  {
   "cell_type": "code",
   "execution_count": 3,
   "id": "c6c9d569",
   "metadata": {},
   "outputs": [
    {
     "data": {
      "text/plain": [
       "<seaborn.axisgrid.FacetGrid at 0x1bf638de5e0>"
      ]
     },
     "execution_count": 3,
     "metadata": {},
     "output_type": "execute_result"
    },
    {
     "data": {
      "image/png": "[encoded data removed]",
      "text/plain": [
       "<Figure size 500x500 with 1 Axes>"
      ]
     },
     "metadata": {},
     "output_type": "display_data"
    }
   ],
   "source": [
    "sns.set_theme()\n",
    "sns.displot(data=scores_data).set(title=\"Distribution of Scores\", xlabel=\"Scores\")"
   ]
  },
  {
   "cell_type": "code",
   "execution_count": 4,
   "id": "0dfed415",
   "metadata": {},
   "outputs": [],
   "source": [
    "df_scores = pd.DataFrame(scores_data,columns=['score'])"
   ]
  },
  {
   "cell_type": "code",
   "execution_count": 5,
   "id": "b5e6ddbe",
   "metadata": {},
   "outputs": [
    {
     "data": {
      "text/plain": [
       "score    61.005\n",
       "dtype: float64"
      ]
     },
     "execution_count": 5,
     "metadata": {},
     "output_type": "execute_result"
    }
   ],
   "source": [
    "df_scores.mean()"
   ]
  },
  {
   "cell_type": "code",
   "execution_count": 6,
   "id": "2452b332",
   "metadata": {},
   "outputs": [
    {
     "data": {
      "text/plain": [
       "score    11.854434\n",
       "dtype: float64"
      ]
     },
     "execution_count": 6,
     "metadata": {},
     "output_type": "execute_result"
    }
   ],
   "source": [
    "df_scores.std()"
   ]
  },
  {
   "cell_type": "code",
   "execution_count": 7,
   "id": "2e199713",
   "metadata": {},
   "outputs": [
    {
     "name": "stdout",
     "output_type": "stream",
     "text": [
      "score    25.441697\n",
      "dtype: float64\n",
      "score    96.568303\n",
      "dtype: float64\n"
     ]
    }
   ],
   "source": [
    "lower_limit = df_scores.mean() - 3*df_scores.std()\n",
    "upper_limit = df_scores.mean() + 3*df_scores.std()\n",
    "print(lower_limit)\n",
    "print(upper_limit)"
   ]
  },
  {
   "cell_type": "code",
   "execution_count": 8,
   "id": "8bb200a8",
   "metadata": {},
   "outputs": [
    {
     "data": {
      "text/html": [
       "<div>\n",
       "<style scoped>\n",
       "    .dataframe tbody tr th:only-of-type {\n",
       "        vertical-align: middle;\n",
       "    }\n",
       "\n",
       "    .dataframe tbody tr th {\n",
       "        vertical-align: top;\n",
       "    }\n",
       "\n",
       "    .dataframe thead th {\n",
       "        text-align: right;\n",
       "    }\n",
       "</style>\n",
       "<table border=\"1\" class=\"dataframe\">\n",
       "  <thead>\n",
       "    <tr style=\"text-align: right;\">\n",
       "      <th></th>\n",
       "      <th>score</th>\n",
       "    </tr>\n",
       "  </thead>\n",
       "  <tbody>\n",
       "    <tr>\n",
       "      <th>0</th>\n",
       "      <td>75.0</td>\n",
       "    </tr>\n",
       "    <tr>\n",
       "      <th>1</th>\n",
       "      <td>56.0</td>\n",
       "    </tr>\n",
       "    <tr>\n",
       "      <th>2</th>\n",
       "      <td>67.0</td>\n",
       "    </tr>\n",
       "    <tr>\n",
       "      <th>3</th>\n",
       "      <td>65.0</td>\n",
       "    </tr>\n",
       "    <tr>\n",
       "      <th>4</th>\n",
       "      <td>63.0</td>\n",
       "    </tr>\n",
       "    <tr>\n",
       "      <th>...</th>\n",
       "      <td>...</td>\n",
       "    </tr>\n",
       "    <tr>\n",
       "      <th>195</th>\n",
       "      <td>76.0</td>\n",
       "    </tr>\n",
       "    <tr>\n",
       "      <th>196</th>\n",
       "      <td>67.0</td>\n",
       "    </tr>\n",
       "    <tr>\n",
       "      <th>197</th>\n",
       "      <td>74.0</td>\n",
       "    </tr>\n",
       "    <tr>\n",
       "      <th>198</th>\n",
       "      <td>NaN</td>\n",
       "    </tr>\n",
       "    <tr>\n",
       "      <th>199</th>\n",
       "      <td>53.0</td>\n",
       "    </tr>\n",
       "  </tbody>\n",
       "</table>\n",
       "<p>200 rows × 1 columns</p>\n",
       "</div>"
      ],
      "text/plain": [
       "     score\n",
       "0     75.0\n",
       "1     56.0\n",
       "2     67.0\n",
       "3     65.0\n",
       "4     63.0\n",
       "..     ...\n",
       "195   76.0\n",
       "196   67.0\n",
       "197   74.0\n",
       "198    NaN\n",
       "199   53.0\n",
       "\n",
       "[200 rows x 1 columns]"
      ]
     },
     "execution_count": 8,
     "metadata": {},
     "output_type": "execute_result"
    }
   ],
   "source": [
    "df_scores_filtered = df_scores[(df_scores[['score']]>lower_limit) & (df_scores[['score']]<upper_limit)]\n",
    "df_scores_filtered"
   ]
  },
  {
   "cell_type": "markdown",
   "id": "ef95a0e9",
   "metadata": {},
   "source": [
    "### Detecting outliers using Z-score :"
   ]
  },
  {
   "cell_type": "code",
   "execution_count": 9,
   "id": "753cc377",
   "metadata": {},
   "outputs": [],
   "source": [
    "def detect_outliers(scores):\n",
    "    z_scores = (scores - np.mean(scores)) / np.std(scores)\n",
    "    outliers = np.abs(z_scores) > 3\n",
    "    return outliers\n"
   ]
  },
  {
   "cell_type": "code",
   "execution_count": 10,
   "id": "d7dc45e9",
   "metadata": {},
   "outputs": [
    {
     "name": "stdout",
     "output_type": "stream",
     "text": [
      "[False False False False False False False False False False False False\n",
      " False False False False False False False False False False False False\n",
      " False False False False False False False False False False False False\n",
      " False False False False False False False False False False False False\n",
      " False False False False False False False False False False False False\n",
      " False False False False False False False False False False False False\n",
      " False False False False False False False False False False False False\n",
      " False False False False False False False False False False False False\n",
      " False False False False False False False False False False False False\n",
      " False False False False False False False False False False False False\n",
      " False False False False False False False False False False False False\n",
      " False False False False False False False False False False False False\n",
      " False False False False False False False False False False False False\n",
      " False False False False False False False False False False False False\n",
      " False False False False False False False False  True False False False\n",
      " False False False False False False False False False False False False\n",
      " False False False False False False  True False]\n"
     ]
    }
   ],
   "source": [
    "scores = generate_scores()\n",
    "outliers = detect_outliers(scores)\n",
    "print(outliers)"
   ]
  },
  {
   "cell_type": "code",
   "execution_count": 11,
   "id": "b0004d1a",
   "metadata": {},
   "outputs": [
    {
     "data": {
      "text/html": [
       "<div>\n",
       "<style scoped>\n",
       "    .dataframe tbody tr th:only-of-type {\n",
       "        vertical-align: middle;\n",
       "    }\n",
       "\n",
       "    .dataframe tbody tr th {\n",
       "        vertical-align: top;\n",
       "    }\n",
       "\n",
       "    .dataframe thead th {\n",
       "        text-align: right;\n",
       "    }\n",
       "</style>\n",
       "<table border=\"1\" class=\"dataframe\">\n",
       "  <thead>\n",
       "    <tr style=\"text-align: right;\">\n",
       "      <th></th>\n",
       "      <th>score</th>\n",
       "      <th>z_score</th>\n",
       "    </tr>\n",
       "  </thead>\n",
       "  <tbody>\n",
       "    <tr>\n",
       "      <th>0</th>\n",
       "      <td>75.0</td>\n",
       "      <td>1.180571</td>\n",
       "    </tr>\n",
       "    <tr>\n",
       "      <th>1</th>\n",
       "      <td>56.0</td>\n",
       "      <td>-0.422205</td>\n",
       "    </tr>\n",
       "    <tr>\n",
       "      <th>2</th>\n",
       "      <td>67.0</td>\n",
       "      <td>0.505718</td>\n",
       "    </tr>\n",
       "    <tr>\n",
       "      <th>3</th>\n",
       "      <td>65.0</td>\n",
       "      <td>0.337005</td>\n",
       "    </tr>\n",
       "    <tr>\n",
       "      <th>4</th>\n",
       "      <td>63.0</td>\n",
       "      <td>0.168291</td>\n",
       "    </tr>\n",
       "  </tbody>\n",
       "</table>\n",
       "</div>"
      ],
      "text/plain": [
       "   score   z_score\n",
       "0   75.0  1.180571\n",
       "1   56.0 -0.422205\n",
       "2   67.0  0.505718\n",
       "3   65.0  0.337005\n",
       "4   63.0  0.168291"
      ]
     },
     "execution_count": 11,
     "metadata": {},
     "output_type": "execute_result"
    }
   ],
   "source": [
    "df_scores['z_score']=(df_scores['score'] - df_scores['score'].mean())/df_scores['score'].std()\n",
    "df_scores.head()"
   ]
  },
  {
   "cell_type": "code",
   "execution_count": 12,
   "id": "e7e9431d",
   "metadata": {},
   "outputs": [
    {
     "name": "stdout",
     "output_type": "stream",
     "text": [
      "     score   z_score\n",
      "0     75.0  1.180571\n",
      "1     56.0 -0.422205\n",
      "2     67.0  0.505718\n",
      "3     65.0  0.337005\n",
      "4     63.0  0.168291\n",
      "..     ...       ...\n",
      "194   42.0 -1.603198\n",
      "195   76.0  1.264928\n",
      "196   67.0  0.505718\n",
      "197   74.0  1.096214\n",
      "199   53.0 -0.675275\n",
      "\n",
      "[198 rows x 2 columns]\n"
     ]
    }
   ],
   "source": [
    "df_scores_filtered= df_scores[(df_scores['z_score']>-3) & (df_scores['z_score']<3)]\n",
    "print(df_scores_filtered)"
   ]
  },
  {
   "cell_type": "markdown",
   "id": "02ebb452",
   "metadata": {},
   "source": [
    "### Detect Outliers Using the Interquartile Range (IQR) :"
   ]
  },
  {
   "cell_type": "code",
   "execution_count": 13,
   "id": "cc6d6f20",
   "metadata": {},
   "outputs": [
    {
     "data": {
      "text/plain": [
       "[Text(0.5, 1.0, 'Box Plot of Scores')]"
      ]
     },
     "execution_count": 13,
     "metadata": {},
     "output_type": "execute_result"
    }
   ],
   "source": [
    "sns.boxplot(data=scores_data).set(title=\"Box Plot of Scores\")"
   ]
  },
  {
   "cell_type": "code",
   "execution_count": 14,
   "id": "02ffdcf0",
   "metadata": {},
   "outputs": [
    {
     "data": {
      "text/html": [
       "<div>\n",
       "<style scoped>\n",
       "    .dataframe tbody tr th:only-of-type {\n",
       "        vertical-align: middle;\n",
       "    }\n",
       "\n",
       "    .dataframe tbody tr th {\n",
       "        vertical-align: top;\n",
       "    }\n",
       "\n",
       "    .dataframe thead th {\n",
       "        text-align: right;\n",
       "    }\n",
       "</style>\n",
       "<table border=\"1\" class=\"dataframe\">\n",
       "  <thead>\n",
       "    <tr style=\"text-align: right;\">\n",
       "      <th></th>\n",
       "      <th>score</th>\n",
       "      <th>z_score</th>\n",
       "    </tr>\n",
       "  </thead>\n",
       "  <tbody>\n",
       "    <tr>\n",
       "      <th>count</th>\n",
       "      <td>200.000000</td>\n",
       "      <td>2.000000e+02</td>\n",
       "    </tr>\n",
       "    <tr>\n",
       "      <th>mean</th>\n",
       "      <td>61.005000</td>\n",
       "      <td>-1.787459e-16</td>\n",
       "    </tr>\n",
       "    <tr>\n",
       "      <th>std</th>\n",
       "      <td>11.854434</td>\n",
       "      <td>1.000000e+00</td>\n",
       "    </tr>\n",
       "    <tr>\n",
       "      <th>min</th>\n",
       "      <td>20.000000</td>\n",
       "      <td>-3.459043e+00</td>\n",
       "    </tr>\n",
       "    <tr>\n",
       "      <th>25%</th>\n",
       "      <td>54.000000</td>\n",
       "      <td>-5.909181e-01</td>\n",
       "    </tr>\n",
       "    <tr>\n",
       "      <th>50%</th>\n",
       "      <td>62.000000</td>\n",
       "      <td>8.393484e-02</td>\n",
       "    </tr>\n",
       "    <tr>\n",
       "      <th>75%</th>\n",
       "      <td>67.000000</td>\n",
       "      <td>5.057179e-01</td>\n",
       "    </tr>\n",
       "    <tr>\n",
       "      <th>max</th>\n",
       "      <td>98.000000</td>\n",
       "      <td>3.120773e+00</td>\n",
       "    </tr>\n",
       "  </tbody>\n",
       "</table>\n",
       "</div>"
      ],
      "text/plain": [
       "            score       z_score\n",
       "count  200.000000  2.000000e+02\n",
       "mean    61.005000 -1.787459e-16\n",
       "std     11.854434  1.000000e+00\n",
       "min     20.000000 -3.459043e+00\n",
       "25%     54.000000 -5.909181e-01\n",
       "50%     62.000000  8.393484e-02\n",
       "75%     67.000000  5.057179e-01\n",
       "max     98.000000  3.120773e+00"
      ]
     },
     "execution_count": 14,
     "metadata": {},
     "output_type": "execute_result"
    }
   ],
   "source": [
    "df_scores.describe()"
   ]
  },
  {
   "cell_type": "code",
   "execution_count": 15,
   "id": "f1e8be03",
   "metadata": {},
   "outputs": [
    {
     "name": "stdout",
     "output_type": "stream",
     "text": [
      "86.5\n",
      "34.5\n"
     ]
    }
   ],
   "source": [
    "IQR = 67-54\n",
    "lower_limit = 54 - 1.5*IQR\n",
    "upper_limit = 67 + 1.5*IQR\n",
    "print(upper_limit)\n",
    "print(lower_limit)"
   ]
  },
  {
   "cell_type": "code",
   "execution_count": 16,
   "id": "e9702e61",
   "metadata": {},
   "outputs": [
    {
     "name": "stdout",
     "output_type": "stream",
     "text": [
      "     score   z_score\n",
      "0     75.0  1.180571\n",
      "1     56.0 -0.422205\n",
      "2     67.0  0.505718\n",
      "3     65.0  0.337005\n",
      "4     63.0  0.168291\n",
      "..     ...       ...\n",
      "194   42.0 -1.603198\n",
      "195   76.0  1.264928\n",
      "196   67.0  0.505718\n",
      "197   74.0  1.096214\n",
      "199   53.0 -0.675275\n",
      "\n",
      "[192 rows x 2 columns]\n"
     ]
    }
   ],
   "source": [
    "df_scores_filtered = df_scores[(df_scores['score']>lower_limit) & (df_scores['score']<upper_limit)]\n",
    "print(df_scores_filtered)"
   ]
  },
  {
   "cell_type": "code",
   "execution_count": 17,
   "id": "6ce2a845",
   "metadata": {},
   "outputs": [
    {
     "name": "stdout",
     "output_type": "stream",
     "text": [
      "61.91606516404945\n"
     ]
    }
   ],
   "source": [
    "q25,q75 = np.percentile(a = df_scores,q=[25,75])\n",
    "IQR = q75 - q25\n",
    "print(IQR)"
   ]
  },
  {
   "cell_type": "markdown",
   "id": "033f8638",
   "metadata": {},
   "source": [
    "### Detect Outliers Using Percentile :"
   ]
  },
  {
   "cell_type": "code",
   "execution_count": 18,
   "id": "026cc220",
   "metadata": {},
   "outputs": [
    {
     "name": "stdout",
     "output_type": "stream",
     "text": [
      "90.005\n",
      "-2.6998335925602515\n"
     ]
    }
   ],
   "source": [
    "lower_limit, upper_limit = np.percentile(a=df_scores,q=[0.5,99.5])\n",
    "print(upper_limit)\n",
    "print(lower_limit)"
   ]
  },
  {
   "cell_type": "code",
   "execution_count": 19,
   "id": "57654da1",
   "metadata": {},
   "outputs": [
    {
     "name": "stdout",
     "output_type": "stream",
     "text": [
      "     score   z_score\n",
      "0     75.0  1.180571\n",
      "1     56.0 -0.422205\n",
      "2     67.0  0.505718\n",
      "3     65.0  0.337005\n",
      "4     63.0  0.168291\n",
      "..     ...       ...\n",
      "194   42.0 -1.603198\n",
      "195   76.0  1.264928\n",
      "196   67.0  0.505718\n",
      "197   74.0  1.096214\n",
      "199   53.0 -0.675275\n",
      "\n",
      "[198 rows x 2 columns]\n"
     ]
    }
   ],
   "source": [
    "df_scores_filtered = df_scores[(df_scores['score']>lower_limit) & (df_scores['score']<upper_limit)]\n",
    "print(df_scores_filtered)"
   ]
  },
  {
   "cell_type": "markdown",
   "id": "75cdffe8",
   "metadata": {},
   "source": [
    "# Conclusion:\n",
    "> In conclusion, the choice of outlier detection and handling method depends on the nature of the data and the statistical assumptions being made. While standard deviation and z-score methods are commonly used for normally distributed data, the IQR method is more robust and suitable for non-normal data. It is important to carefully consider the properties of the data and the goals of the analysis when deciding which method to use."
   ]
  }
 ],
 "metadata": {
  "kernelspec": {
   "display_name": "Python 3 (ipykernel)",
   "language": "python",
   "name": "python3"
  },
  "language_info": {
   "codemirror_mode": {
    "name": "ipython",
    "version": 3
   },
   "file_extension": ".py",
   "mimetype": "text/x-python",
   "name": "python",
   "nbconvert_exporter": "python",
   "pygments_lexer": "ipython3",
   "version": "3.9.13"
  }
 },
 "nbformat": 4,
 "nbformat_minor": 5
}
