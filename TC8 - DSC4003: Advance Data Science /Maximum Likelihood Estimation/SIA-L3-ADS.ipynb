{
 "cells": [
  {
   "cell_type": "code",
   "execution_count": 3,
   "id": "8a7baf8a",
   "metadata": {},
   "outputs": [],
   "source": [
    "import numpy as np\n",
    "import pandas as pd\n",
    "from scipy.stats import norm\n",
    "import matplotlib.pyplot as plt"
   ]
  },
  {
   "cell_type": "markdown",
   "id": "7c28ee9f",
   "metadata": {},
   "source": [
    "# Q1:"
   ]
  },
  {
   "cell_type": "code",
   "execution_count": 4,
   "id": "8fe0b9a6",
   "metadata": {},
   "outputs": [
    {
     "data": {
      "text/html": [
       "<div>\n",
       "<style scoped>\n",
       "    .dataframe tbody tr th:only-of-type {\n",
       "        vertical-align: middle;\n",
       "    }\n",
       "\n",
       "    .dataframe tbody tr th {\n",
       "        vertical-align: top;\n",
       "    }\n",
       "\n",
       "    .dataframe thead th {\n",
       "        text-align: right;\n",
       "    }\n",
       "</style>\n",
       "<table border=\"1\" class=\"dataframe\">\n",
       "  <thead>\n",
       "    <tr style=\"text-align: right;\">\n",
       "      <th></th>\n",
       "      <th>gender</th>\n",
       "      <th>race/ethnicity</th>\n",
       "      <th>parental level of education</th>\n",
       "      <th>lunch</th>\n",
       "      <th>test preparation course</th>\n",
       "      <th>math score</th>\n",
       "      <th>reading score</th>\n",
       "      <th>writing score</th>\n",
       "    </tr>\n",
       "  </thead>\n",
       "  <tbody>\n",
       "    <tr>\n",
       "      <th>0</th>\n",
       "      <td>female</td>\n",
       "      <td>group B</td>\n",
       "      <td>bachelor's degree</td>\n",
       "      <td>standard</td>\n",
       "      <td>none</td>\n",
       "      <td>72</td>\n",
       "      <td>72</td>\n",
       "      <td>74</td>\n",
       "    </tr>\n",
       "    <tr>\n",
       "      <th>1</th>\n",
       "      <td>female</td>\n",
       "      <td>group C</td>\n",
       "      <td>some college</td>\n",
       "      <td>standard</td>\n",
       "      <td>completed</td>\n",
       "      <td>69</td>\n",
       "      <td>90</td>\n",
       "      <td>88</td>\n",
       "    </tr>\n",
       "    <tr>\n",
       "      <th>2</th>\n",
       "      <td>female</td>\n",
       "      <td>group B</td>\n",
       "      <td>master's degree</td>\n",
       "      <td>standard</td>\n",
       "      <td>none</td>\n",
       "      <td>90</td>\n",
       "      <td>95</td>\n",
       "      <td>93</td>\n",
       "    </tr>\n",
       "    <tr>\n",
       "      <th>3</th>\n",
       "      <td>male</td>\n",
       "      <td>group A</td>\n",
       "      <td>associate's degree</td>\n",
       "      <td>free/reduced</td>\n",
       "      <td>none</td>\n",
       "      <td>47</td>\n",
       "      <td>57</td>\n",
       "      <td>44</td>\n",
       "    </tr>\n",
       "    <tr>\n",
       "      <th>4</th>\n",
       "      <td>male</td>\n",
       "      <td>group C</td>\n",
       "      <td>some college</td>\n",
       "      <td>standard</td>\n",
       "      <td>none</td>\n",
       "      <td>76</td>\n",
       "      <td>78</td>\n",
       "      <td>75</td>\n",
       "    </tr>\n",
       "    <tr>\n",
       "      <th>...</th>\n",
       "      <td>...</td>\n",
       "      <td>...</td>\n",
       "      <td>...</td>\n",
       "      <td>...</td>\n",
       "      <td>...</td>\n",
       "      <td>...</td>\n",
       "      <td>...</td>\n",
       "      <td>...</td>\n",
       "    </tr>\n",
       "    <tr>\n",
       "      <th>995</th>\n",
       "      <td>female</td>\n",
       "      <td>group E</td>\n",
       "      <td>master's degree</td>\n",
       "      <td>standard</td>\n",
       "      <td>completed</td>\n",
       "      <td>88</td>\n",
       "      <td>99</td>\n",
       "      <td>95</td>\n",
       "    </tr>\n",
       "    <tr>\n",
       "      <th>996</th>\n",
       "      <td>male</td>\n",
       "      <td>group C</td>\n",
       "      <td>high school</td>\n",
       "      <td>free/reduced</td>\n",
       "      <td>none</td>\n",
       "      <td>62</td>\n",
       "      <td>55</td>\n",
       "      <td>55</td>\n",
       "    </tr>\n",
       "    <tr>\n",
       "      <th>997</th>\n",
       "      <td>female</td>\n",
       "      <td>group C</td>\n",
       "      <td>high school</td>\n",
       "      <td>free/reduced</td>\n",
       "      <td>completed</td>\n",
       "      <td>59</td>\n",
       "      <td>71</td>\n",
       "      <td>65</td>\n",
       "    </tr>\n",
       "    <tr>\n",
       "      <th>998</th>\n",
       "      <td>female</td>\n",
       "      <td>group D</td>\n",
       "      <td>some college</td>\n",
       "      <td>standard</td>\n",
       "      <td>completed</td>\n",
       "      <td>68</td>\n",
       "      <td>78</td>\n",
       "      <td>77</td>\n",
       "    </tr>\n",
       "    <tr>\n",
       "      <th>999</th>\n",
       "      <td>female</td>\n",
       "      <td>group D</td>\n",
       "      <td>some college</td>\n",
       "      <td>free/reduced</td>\n",
       "      <td>none</td>\n",
       "      <td>77</td>\n",
       "      <td>86</td>\n",
       "      <td>86</td>\n",
       "    </tr>\n",
       "  </tbody>\n",
       "</table>\n",
       "<p>1000 rows × 8 columns</p>\n",
       "</div>"
      ],
      "text/plain": [
       "     gender race/ethnicity parental level of education         lunch  \\\n",
       "0    female        group B           bachelor's degree      standard   \n",
       "1    female        group C                some college      standard   \n",
       "2    female        group B             master's degree      standard   \n",
       "3      male        group A          associate's degree  free/reduced   \n",
       "4      male        group C                some college      standard   \n",
       "..      ...            ...                         ...           ...   \n",
       "995  female        group E             master's degree      standard   \n",
       "996    male        group C                 high school  free/reduced   \n",
       "997  female        group C                 high school  free/reduced   \n",
       "998  female        group D                some college      standard   \n",
       "999  female        group D                some college  free/reduced   \n",
       "\n",
       "    test preparation course  math score  reading score  writing score  \n",
       "0                      none          72             72             74  \n",
       "1                 completed          69             90             88  \n",
       "2                      none          90             95             93  \n",
       "3                      none          47             57             44  \n",
       "4                      none          76             78             75  \n",
       "..                      ...         ...            ...            ...  \n",
       "995               completed          88             99             95  \n",
       "996                    none          62             55             55  \n",
       "997               completed          59             71             65  \n",
       "998               completed          68             78             77  \n",
       "999                    none          77             86             86  \n",
       "\n",
       "[1000 rows x 8 columns]"
      ]
     },
     "metadata": {},
     "output_type": "display_data"
    }
   ],
   "source": [
    "# Load the dataset (change the file path to your dataset)\n",
    "data = pd.read_csv('StudentsPerformance.csv')\n",
    "\n",
    "# Print the first few rows of the dataset to understand its structure\n",
    "display(data)"
   ]
  },
  {
   "cell_type": "code",
   "execution_count": 5,
   "id": "209492bc",
   "metadata": {},
   "outputs": [],
   "source": [
    "math_scores = data['math score']\n",
    "reading_scores = data['reading score']\n",
    "writing_scores = data['writing score']"
   ]
  },
  {
   "cell_type": "code",
   "execution_count": 6,
   "id": "1df59bcc",
   "metadata": {},
   "outputs": [],
   "source": [
    "def likelihood(params, data):\n",
    "    mu, sigma = params\n",
    "    return -np.sum(norm.logpdf(data, loc=mu, scale=sigma))"
   ]
  },
  {
   "cell_type": "code",
   "execution_count": 7,
   "id": "9b1ae8c7",
   "metadata": {},
   "outputs": [
    {
     "name": "stdout",
     "output_type": "stream",
     "text": [
      "MLE estimate of mu for math scores: 66.089\n",
      "MLE estimate of sigma for math scores: 15.155496761094891\n"
     ]
    }
   ],
   "source": [
    "from scipy.optimize import minimize\n",
    "\n",
    "# Initial parameter guess\n",
    "initial_guess = [math_scores.mean(), math_scores.std()]\n",
    "\n",
    "# Perform MLE for math scores\n",
    "result = minimize(lambda params: likelihood(params, math_scores), initial_guess)\n",
    "mu_mle, sigma_mle = result.x\n",
    "\n",
    "print(f\"MLE estimate of mu for math scores: {mu_mle}\")\n",
    "print(f\"MLE estimate of sigma for math scores: {sigma_mle}\")\n"
   ]
  },
  {
   "cell_type": "code",
   "execution_count": 8,
   "id": "212c8458",
   "metadata": {},
   "outputs": [
    {
     "data": {
      "image/png": "[encoded data removed]",
      "text/plain": [
       "<Figure size 432x288 with 1 Axes>"
      ]
     },
     "metadata": {
      "needs_background": "light"
     },
     "output_type": "display_data"
    }
   ],
   "source": [
    "# Create a histogram of math scores\n",
    "plt.hist(math_scores, bins=20, density=True, alpha=0.6, color='b')\n",
    "\n",
    "# Create a PDF of the estimated normal distribution for math scores\n",
    "x = np.linspace(math_scores.min(), math_scores.max(), 100)\n",
    "pdf = norm.pdf(x, loc=mu_mle, scale=sigma_mle)\n",
    "plt.plot(x, pdf, 'k-', lw=2)\n",
    "\n",
    "# Label the plot for math scores\n",
    "plt.xlabel('Math Scores')\n",
    "plt.ylabel('Frequency')\n",
    "plt.title('Histogram of Math Scores and MLE Estimated Normal Distribution')\n",
    "\n",
    "# Show the plot\n",
    "plt.show()\n"
   ]
  },
  {
   "cell_type": "markdown",
   "id": "67d5ae55",
   "metadata": {},
   "source": [
    "# Q2:"
   ]
  },
  {
   "cell_type": "code",
   "execution_count": 15,
   "id": "5a8a02cd",
   "metadata": {},
   "outputs": [
    {
     "name": "stdout",
     "output_type": "stream",
     "text": [
      "Maximum Likelihood Estimate (MLE) for the probability of heads (p): 0.7000000000000005\n"
     ]
    }
   ],
   "source": [
    "from scipy.optimize import minimize\n",
    "import numpy as np\n",
    "\n",
    "# Define the sequence of coin flips (H for heads, T for tails)\n",
    "coin_flips = ['H', 'T', 'H', 'H', 'T', 'H', 'T', 'H', 'H', 'H']\n",
    "\n",
    "# Define the negative log-likelihood function for a binomial distribution\n",
    "def neg_log_likelihood(p):\n",
    " # Calculate the likelihood of the observed sequence\n",
    " likelihood = np.prod([p if flip == 'H' else 1 - p for flip in coin_flips])\n",
    " # Take the negative natural logarithm of the likelihood\n",
    " return -np.log(likelihood)\n",
    "\n",
    "# Use a numerical optimization method to find the MLE estimate for p\n",
    "initial_guess = 0.5 # Initial guess for the probability of heads\n",
    "result = minimize(neg_log_likelihood, initial_guess, method='Nelder-Mead')\n",
    "\n",
    "# The MLE estimate for the probability of heads (p) is in the result\n",
    "mle_estimate = result.x[0]\n",
    "\n",
    "# Print the MLE estimate for p\n",
    "print(\"Maximum Likelihood Estimate (MLE) for the probability of heads (p):\", mle_estimate)"
   ]
  },
  {
   "cell_type": "code",
   "execution_count": 16,
   "id": "4a021ba0",
   "metadata": {},
   "outputs": [
    {
     "name": "stderr",
     "output_type": "stream",
     "text": [
      "<ipython-input-15-987cae3ef542>:12: RuntimeWarning: divide by zero encountered in log\n",
      "  return -np.log(likelihood)\n"
     ]
    },
    {
     "data": {
      "image/png": "[encoded data removed]",
      "text/plain": [
       "<Figure size 432x288 with 1 Axes>"
      ]
     },
     "metadata": {
      "needs_background": "light"
     },
     "output_type": "display_data"
    }
   ],
   "source": [
    "# Create a range of p values for visualization\n",
    "p_values = np.linspace(0, 1, 100)\n",
    "\n",
    "# Calculate the negative log-likelihood for each p value\n",
    "negative_log_likelihoods = [-neg_log_likelihood(p) for p in p_values]\n",
    "\n",
    "# Visualize the likelihood as a function of p\n",
    "plt.plot(p_values, negative_log_likelihoods)\n",
    "plt.axvline(x=mle_estimate, color='r', linestyle='--', label=f'MLE Estimate for p: {mle_estimate:.3f}')\n",
    "plt.xlabel('Probability of Getting Heads (p)')\n",
    "plt.ylabel('Negative Log-Likelihood')\n",
    "plt.title('MLE for Probability of Getting Heads')\n",
    "plt.legend()\n",
    "plt.grid(True)\n",
    "plt.show()\n"
   ]
  },
  {
   "cell_type": "code",
   "execution_count": null,
   "id": "50af865c",
   "metadata": {},
   "outputs": [],
   "source": []
  }
 ],
 "metadata": {
  "kernelspec": {
   "display_name": "Python 3",
   "language": "python",
   "name": "python3"
  },
  "language_info": {
   "codemirror_mode": {
    "name": "ipython",
    "version": 3
   },
   "file_extension": ".py",
   "mimetype": "text/x-python",
   "name": "python",
   "nbconvert_exporter": "python",
   "pygments_lexer": "ipython3",
   "version": "3.8.8"
  }
 },
 "nbformat": 4,
 "nbformat_minor": 5
}
