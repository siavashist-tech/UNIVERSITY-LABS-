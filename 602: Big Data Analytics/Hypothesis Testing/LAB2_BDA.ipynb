{
 "cells": [
  {
   "cell_type": "markdown",
   "id": "f6b4ce98",
   "metadata": {},
   "source": [
    "# **BDA- Experiment 2**\n",
    "\n",
    "*    **SIA VASHIST**\n",
    "*    PRN: 20190802107\n",
    "\n",
    "---\n"
   ]
  },
  {
   "cell_type": "markdown",
   "id": "0ea315d7",
   "metadata": {},
   "source": [
    "# **Dataset -** Seeds Dataset.\n",
    "\n",
    "---"
   ]
  },
  {
   "cell_type": "markdown",
   "id": "6146d6ce",
   "metadata": {},
   "source": [
    "#  **LIBRARIES USED :** \n",
    "\n",
    "> PANDAS |\n",
    "> MATPLOTLIB |\n",
    "> NUMPY |\n",
    "> stats SciPy \n",
    "\n",
    "\n",
    "---"
   ]
  },
  {
   "cell_type": "markdown",
   "id": "00da627a",
   "metadata": {},
   "source": [
    "# • AIM:\n",
    "\n",
    "To perform Hypothesis Testing(Z-test, p-value)\n",
    "> where,\n",
    " H₀: All wheat varieties have the same mean compactness.\n",
    " H₁: The wheat varieties have different mean compactness.\n"
   ]
  },
  {
   "cell_type": "code",
   "execution_count": 1,
   "id": "6887810a",
   "metadata": {},
   "outputs": [],
   "source": [
    "import pandas as pd\n",
    "import numpy as np\n",
    "import matplotlib.pyplot as plt\n",
    "from scipy import stats\n"
   ]
  },
  {
   "cell_type": "code",
   "execution_count": 2,
   "id": "15c593b1",
   "metadata": {},
   "outputs": [
    {
     "name": "stdout",
     "output_type": "stream",
     "text": [
      "The Dataset is as Follows:\n",
      "      area  perimeter  compactness  kernel_length  kernel_width  \\\n",
      "0    15.26      14.84       0.8710          5.763         3.312   \n",
      "1    14.88      14.57       0.8811          5.554         3.333   \n",
      "2    14.29      14.09       0.9050          5.291         3.337   \n",
      "3    13.84      13.94       0.8955          5.324         3.379   \n",
      "4    16.14      14.99       0.9034          5.658         3.562   \n",
      "..     ...        ...          ...            ...           ...   \n",
      "205  12.19      13.20       0.8783          5.137         2.981   \n",
      "206  11.23      12.88       0.8511          5.140         2.795   \n",
      "207  13.20      13.66       0.8883          5.236         3.232   \n",
      "208  11.84      13.21       0.8521          5.175         2.836   \n",
      "209  12.30      13.34       0.8684          5.243         2.974   \n",
      "\n",
      "     asymmetry_coef  kernel_groove_length   variety  \n",
      "0             2.221                 5.220      Kama  \n",
      "1             1.018                 4.956      Kama  \n",
      "2             2.699                 4.825      Kama  \n",
      "3             2.259                 4.805      Kama  \n",
      "4             1.355                 5.175      Kama  \n",
      "..              ...                   ...       ...  \n",
      "205           3.631                 4.870  Canadian  \n",
      "206           4.325                 5.003  Canadian  \n",
      "207           8.315                 5.056  Canadian  \n",
      "208           3.598                 5.044  Canadian  \n",
      "209           5.637                 5.063  Canadian  \n",
      "\n",
      "[210 rows x 8 columns] \n",
      "\n"
     ]
    }
   ],
   "source": [
    "# Load the seeds dataset\n",
    "seeds_data = pd.read_csv(r'C:\\sia\\seeds_data.csv')\n",
    "print(\"The Dataset is as Follows:\")\n",
    "print(seeds_data.dropna(), '\\n')"
   ]
  },
  {
   "cell_type": "code",
   "execution_count": 3,
   "id": "717665fe",
   "metadata": {},
   "outputs": [],
   "source": [
    "# Group the data by wheat variety\n",
    "grouped_data = seeds_data.groupby(\"variety\")"
   ]
  },
  {
   "cell_type": "code",
   "execution_count": 4,
   "id": "ec743ffc",
   "metadata": {},
   "outputs": [
    {
     "name": "stdout",
     "output_type": "stream",
     "text": [
      "variety\n",
      "Canadian    0.849409\n",
      "Kama        0.880070\n",
      "Rosa        0.883517\n",
      "Name: compactness, dtype: float64\n"
     ]
    }
   ],
   "source": [
    "# Calculate the mean compactness for each wheat variety\n",
    "group_means = grouped_data[\"compactness\"].mean()\n",
    "print(group_means)"
   ]
  },
  {
   "cell_type": "code",
   "execution_count": 5,
   "id": "4a07a25c",
   "metadata": {},
   "outputs": [
    {
     "name": "stdout",
     "output_type": "stream",
     "text": [
      "0.8709985714285714\n"
     ]
    }
   ],
   "source": [
    "# Calculate the overall mean compactness\n",
    "overall_mean = seeds_data[\"compactness\"].mean()\n",
    "print(overall_mean)"
   ]
  },
  {
   "cell_type": "code",
   "execution_count": 6,
   "id": "a125a48d",
   "metadata": {},
   "outputs": [
    {
     "name": "stdout",
     "output_type": "stream",
     "text": [
      "0.0016305846571865537\n"
     ]
    }
   ],
   "source": [
    "# Calculate the standard error\n",
    "standard_error = seeds_data[\"compactness\"].sem()\n",
    "print(standard_error)"
   ]
  },
  {
   "cell_type": "code",
   "execution_count": 7,
   "id": "0ba6737d",
   "metadata": {},
   "outputs": [
    {
     "name": "stdout",
     "output_type": "stream",
     "text": [
      "-13.240649545453135\n"
     ]
    }
   ],
   "source": [
    "# Calculate the z-score\n",
    "z_score = (group_means[0] - overall_mean) / standard_error\n",
    "print(z_score)"
   ]
  },
  {
   "cell_type": "code",
   "execution_count": 8,
   "id": "b509b04e",
   "metadata": {},
   "outputs": [
    {
     "name": "stdout",
     "output_type": "stream",
     "text": [
      "2.0\n"
     ]
    }
   ],
   "source": [
    "# Calculate the p-value\n",
    "p_value = stats.norm.cdf(-z_score) * 2\n",
    "print(p_value)"
   ]
  },
  {
   "cell_type": "code",
   "execution_count": 9,
   "id": "b81b526a",
   "metadata": {},
   "outputs": [
    {
     "data": {
      "image/png": "[encoded data removed]",
      "text/plain": [
       "<Figure size 432x288 with 1 Axes>"
      ]
     },
     "metadata": {
      "needs_background": "light"
     },
     "output_type": "display_data"
    }
   ],
   "source": [
    "# Plot the compactness distribution for each wheat variety\n",
    "for group, data in grouped_data:\n",
    "    data[\"compactness\"].plot(kind='density', label=group)\n",
    "\n",
    "# Add a line for the overall mean compactness\n",
    "plt.axvline(overall_mean, color='black', linestyle='--', label='Overall Mean')\n",
    "\n",
    "# Add a line for the mean compactness of the first wheat variety\n",
    "plt.axvline(group_means[0], color='red', linestyle='--', label=list(grouped_data.groups.keys())[0] + ' Mean')\n",
    "\n",
    "\n",
    "# Add a legend and labels\n",
    "plt.legend()\n",
    "plt.xlabel(\"Compactness\")\n",
    "plt.ylabel(\"Density\")\n",
    "\n",
    "# Show the plot\n",
    "plt.show()"
   ]
  },
  {
   "cell_type": "markdown",
   "id": "3c05e176",
   "metadata": {},
   "source": [
    "# OBSERVATION:\n",
    ">The visualization of the compactness distribution for each wheat variety and the lines for the overall mean compactness and the mean compactness of the first wheat variety help us understand the results of the hypothesis test. If the lines are close together, it indicates that the means are similar and supports the conclusion that all wheat varieties have the same mean compactness. If the lines are far apart, it indicates that the means are different and supports the conclusion that the wheat varieties have different mean compactness."
   ]
  },
  {
   "cell_type": "code",
   "execution_count": 10,
   "id": "5cc7caad",
   "metadata": {},
   "outputs": [
    {
     "name": "stdout",
     "output_type": "stream",
     "text": [
      "Fail to reject the null hypothesis - All wheat varieties have the same mean compactness\n"
     ]
    }
   ],
   "source": [
    "# Check the p-value against a significance level of 0.05\n",
    "if p_value < 0.05:\n",
    "    print(\"Reject the null hypothesis - The wheat varieties have different mean compactness\")\n",
    "else:\n",
    "    print(\"Fail to reject the null hypothesis - All wheat varieties have the same mean compactness\")"
   ]
  },
  {
   "cell_type": "markdown",
   "id": "6b32abcf",
   "metadata": {},
   "source": [
    "# CONCLUSION:\n",
    "> The null hypothesis stated that all wheat varieties have the same mean compactness, while the alternative hypothesis stated that wheat varieties have varying mean compactness. Based on the p-value calculation and a significance level of 0.05, we can conclude that the null hypothesis could not be rejected, meaning that all wheat varieties have the same mean compactness. we also plotted the compactness distribution for each wheat variety and visualized the mean compactness for each variety and the overall mean compactness.\n"
   ]
  }
 ],
 "metadata": {
  "kernelspec": {
   "display_name": "Python 3 (ipykernel)",
   "language": "python",
   "name": "python3"
  },
  "language_info": {
   "codemirror_mode": {
    "name": "ipython",
    "version": 3
   },
   "file_extension": ".py",
   "mimetype": "text/x-python",
   "name": "python",
   "nbconvert_exporter": "python",
   "pygments_lexer": "ipython3",
   "version": "3.9.12"
  }
 },
 "nbformat": 4,
 "nbformat_minor": 5
}
