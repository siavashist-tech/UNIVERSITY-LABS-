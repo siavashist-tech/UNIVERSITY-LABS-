{
 "cells": [
  {
   "cell_type": "markdown",
   "id": "11f89c4f",
   "metadata": {},
   "source": [
    "# **BDA- Experiment 4**\n",
    "\n",
    "*   **SIA VASHIST**\n",
    "*    PRN: 20190802107\n",
    "\n",
    "---"
   ]
  },
  {
   "cell_type": "markdown",
   "id": "c10eebd0",
   "metadata": {},
   "source": [
    "#  Dataset used: Titanic\n",
    "---"
   ]
  },
  {
   "cell_type": "code",
   "execution_count": 1,
   "id": "90410aef",
   "metadata": {},
   "outputs": [],
   "source": [
    "# import necessary packages\n",
    "from pyspark.sql import SparkSession\n",
    "from pyspark.sql.functions import avg\n",
    "import matplotlib.pyplot as plt\n",
    "\n",
    "# create SparkSession\n",
    "spark = SparkSession.builder.appName('Titanic').getOrCreate()\n",
    "\n",
    "# read in Titanic test dataset\n",
    "titanic_df = spark.read.csv(r\"C:\\sia\\train.csv\", header=True, inferSchema=True)\n"
   ]
  },
  {
   "cell_type": "code",
   "execution_count": 2,
   "id": "b60aaefe",
   "metadata": {},
   "outputs": [
    {
     "name": "stdout",
     "output_type": "stream",
     "text": [
      "root\n",
      " |-- PassengerId: integer (nullable = true)\n",
      " |-- Survived: integer (nullable = true)\n",
      " |-- Pclass: integer (nullable = true)\n",
      " |-- Name: string (nullable = true)\n",
      " |-- Sex: string (nullable = true)\n",
      " |-- Age: double (nullable = true)\n",
      " |-- SibSp: integer (nullable = true)\n",
      " |-- Parch: integer (nullable = true)\n",
      " |-- Ticket: string (nullable = true)\n",
      " |-- Fare: double (nullable = true)\n",
      " |-- Cabin: string (nullable = true)\n",
      " |-- Embarked: string (nullable = true)\n",
      "\n"
     ]
    }
   ],
   "source": [
    "titanic_df.printSchema()"
   ]
  },
  {
   "cell_type": "code",
   "execution_count": 3,
   "id": "e09df641",
   "metadata": {},
   "outputs": [
    {
     "name": "stdout",
     "output_type": "stream",
     "text": [
      "Number of rows:  891\n",
      "Number of columns:  12\n"
     ]
    }
   ],
   "source": [
    "# count the number of rows & columns in the dataset\n",
    "num_rows = titanic_df.count()\n",
    "num_cols = len(titanic_df.columns)\n",
    "\n",
    "print(\"Number of rows: \", num_rows)\n",
    "print(\"Number of columns: \", num_cols)"
   ]
  },
  {
   "cell_type": "code",
   "execution_count": 4,
   "id": "d37ca7a8",
   "metadata": {},
   "outputs": [
    {
     "name": "stdout",
     "output_type": "stream",
     "text": [
      "+-----------+--------+------+----+---+---+-----+-----+------+----+-----+--------+\n",
      "|PassengerId|Survived|Pclass|Name|Sex|Age|SibSp|Parch|Ticket|Fare|Cabin|Embarked|\n",
      "+-----------+--------+------+----+---+---+-----+-----+------+----+-----+--------+\n",
      "|          0|       0|     0|   0|  0|177|    0|    0|     0|   0|  687|       2|\n",
      "+-----------+--------+------+----+---+---+-----+-----+------+----+-----+--------+\n",
      "\n"
     ]
    }
   ],
   "source": [
    "#Count the number of missing values in each column\n",
    "from pyspark.sql.functions import isnan, when, count, col\n",
    "\n",
    "titanic_df.select([count(when(isnan(c) | col(c).isNull(), c)).alias(c) for c in titanic_df.columns]).show()"
   ]
  },
  {
   "cell_type": "code",
   "execution_count": 5,
   "id": "763b8c31",
   "metadata": {},
   "outputs": [
    {
     "name": "stdout",
     "output_type": "stream",
     "text": [
      "+-----------+--------+------+--------------------+------+----+-----+-----+----------------+-------+-----+--------+\n",
      "|PassengerId|Survived|Pclass|                Name|   Sex| Age|SibSp|Parch|          Ticket|   Fare|Cabin|Embarked|\n",
      "+-----------+--------+------+--------------------+------+----+-----+-----+----------------+-------+-----+--------+\n",
      "|          1|       0|     3|Braund, Mr. Owen ...|  male|22.0|    1|    0|       A/5 21171|   7.25| null|       S|\n",
      "|          2|       1|     1|Cumings, Mrs. Joh...|female|38.0|    1|    0|        PC 17599|71.2833|  C85|       C|\n",
      "|          3|       1|     3|Heikkinen, Miss. ...|female|26.0|    0|    0|STON/O2. 3101282|  7.925| null|       S|\n",
      "|          4|       1|     1|Futrelle, Mrs. Ja...|female|35.0|    1|    0|          113803|   53.1| C123|       S|\n",
      "|          5|       0|     3|Allen, Mr. Willia...|  male|35.0|    0|    0|          373450|   8.05| null|       S|\n",
      "+-----------+--------+------+--------------------+------+----+-----+-----+----------------+-------+-----+--------+\n",
      "only showing top 5 rows\n",
      "\n"
     ]
    }
   ],
   "source": [
    "# display the first few rows of the dataset\n",
    "titanic_df.show(5)"
   ]
  },
  {
   "cell_type": "code",
   "execution_count": 6,
   "id": "d8b3e878",
   "metadata": {},
   "outputs": [
    {
     "name": "stdout",
     "output_type": "stream",
     "text": [
      "+------+------------------+\n",
      "|pclass|          avg_fare|\n",
      "+------+------------------+\n",
      "|     1| 84.15468749999992|\n",
      "|     3|13.675550101832997|\n",
      "|     2| 20.66218315217391|\n",
      "+------+------------------+\n",
      "\n"
     ]
    }
   ],
   "source": [
    "#Calculate the average fare by class:\n",
    "titanic_df.groupBy('pclass').agg(avg('fare').alias('avg_fare')).show()"
   ]
  },
  {
   "cell_type": "code",
   "execution_count": 7,
   "id": "344b80e7",
   "metadata": {},
   "outputs": [
    {
     "name": "stdout",
     "output_type": "stream",
     "text": [
      "+-------+------------------+\n",
      "|summary|               Age|\n",
      "+-------+------------------+\n",
      "|  count|               714|\n",
      "|   mean| 29.69911764705882|\n",
      "| stddev|14.526497332334035|\n",
      "|    min|              0.42|\n",
      "|    max|              80.0|\n",
      "+-------+------------------+\n",
      "\n"
     ]
    }
   ],
   "source": [
    "#Calculate basic statistics for the \"Age\" column\n",
    "titanic_df.select(\"Age\").describe().show()"
   ]
  },
  {
   "cell_type": "code",
   "execution_count": 8,
   "id": "445b60fa",
   "metadata": {},
   "outputs": [
    {
     "name": "stdout",
     "output_type": "stream",
     "text": [
      "+------+------------------+\n",
      "|   Sex|          avg(Age)|\n",
      "+------+------------------+\n",
      "|female|27.915708812260537|\n",
      "|  male| 30.72664459161148|\n",
      "+------+------------------+\n",
      "\n"
     ]
    }
   ],
   "source": [
    "# group the data by Sex and calculate the average Age\n",
    "titanic_df.groupBy('Sex').agg({'Age': 'avg'}).show()"
   ]
  },
  {
   "cell_type": "code",
   "execution_count": 9,
   "id": "11fedacf",
   "metadata": {},
   "outputs": [
    {
     "name": "stdout",
     "output_type": "stream",
     "text": [
      "+-----------+--------+------+--------------------+------+----+-----+-----+----------------+-------+-----+--------+\n",
      "|PassengerId|Survived|Pclass|                Name|   Sex| Age|SibSp|Parch|          Ticket|   Fare|Cabin|Embarked|\n",
      "+-----------+--------+------+--------------------+------+----+-----+-----+----------------+-------+-----+--------+\n",
      "|          2|       1|     1|Cumings, Mrs. Joh...|female|38.0|    1|    0|        PC 17599|71.2833|  C85|       C|\n",
      "|          3|       1|     3|Heikkinen, Miss. ...|female|26.0|    0|    0|STON/O2. 3101282|  7.925| null|       S|\n",
      "|          4|       1|     1|Futrelle, Mrs. Ja...|female|35.0|    1|    0|          113803|   53.1| C123|       S|\n",
      "|          9|       1|     3|Johnson, Mrs. Osc...|female|27.0|    0|    2|          347742|11.1333| null|       S|\n",
      "|         10|       1|     2|Nasser, Mrs. Nich...|female|14.0|    1|    0|          237736|30.0708| null|       C|\n",
      "+-----------+--------+------+--------------------+------+----+-----+-----+----------------+-------+-----+--------+\n",
      "only showing top 5 rows\n",
      "\n"
     ]
    }
   ],
   "source": [
    "# filter for passengers who survived\n",
    "survived_df = titanic_df.filter(titanic_df['Survived'] == 1)\n",
    "\n",
    "# display the first few rows of the filtered dataset\n",
    "survived_df.show(5)"
   ]
  },
  {
   "cell_type": "code",
   "execution_count": 10,
   "id": "66930b99",
   "metadata": {},
   "outputs": [
    {
     "name": "stdout",
     "output_type": "stream",
     "text": [
      "+------+-----+\n",
      "|pclass|count|\n",
      "+------+-----+\n",
      "|     1|  136|\n",
      "|     3|  119|\n",
      "|     2|   87|\n",
      "+------+-----+\n",
      "\n"
     ]
    }
   ],
   "source": [
    "#Count the number of passengers who survived by class:\n",
    "titanic_df.filter(titanic_df.Survived == 1).groupBy('pclass').agg(count('passengerid').alias('count')).show()"
   ]
  },
  {
   "cell_type": "code",
   "execution_count": 11,
   "id": "d9578aa7",
   "metadata": {},
   "outputs": [
    {
     "data": {
      "image/png": "[encoded data removed]",
      "text/plain": [
       "<Figure size 432x288 with 1 Axes>"
      ]
     },
     "metadata": {
      "needs_background": "light"
     },
     "output_type": "display_data"
    }
   ],
   "source": [
    "#Visualizing Survival Rate by Passenger Class:\n",
    "# Create a new DataFrame with only the Pclass and Survived columns and remove null values\n",
    "pclass_df = titanic_df.select('Pclass', 'Survived').na.drop()\n",
    "\n",
    "# Group by Pclass and count the number of survivors/non-survivors\n",
    "grouped_df = pclass_df.groupBy('Pclass', 'Survived').count()\n",
    "\n",
    "# Convert the DataFrame to a Pandas DataFrame for plotting\n",
    "pandas_df = grouped_df.toPandas()\n",
    "\n",
    "# Create a stacked bar chart\n",
    "pandas_df.pivot(index='Pclass', columns='Survived', values='count').plot(kind='bar', stacked=True)\n",
    "plt.title('Survival Rate by Passenger Class')\n",
    "plt.xlabel('Passenger Class')\n",
    "plt.ylabel('Count')\n",
    "plt.show()"
   ]
  },
  {
   "cell_type": "code",
   "execution_count": 12,
   "id": "8d97e033",
   "metadata": {},
   "outputs": [
    {
     "name": "stdout",
     "output_type": "stream",
     "text": [
      "+------+------+-------------------+\n",
      "|pclass|   sex|      survival_rate|\n",
      "+------+------+-------------------+\n",
      "|     2|female| 0.9210526315789473|\n",
      "|     3|  male|0.13544668587896252|\n",
      "|     1|  male|0.36885245901639346|\n",
      "|     3|female|                0.5|\n",
      "|     1|female| 0.9680851063829787|\n",
      "|     2|  male| 0.1574074074074074|\n",
      "+------+------+-------------------+\n",
      "\n"
     ]
    }
   ],
   "source": [
    "#Calculate the survival rate by class and gender:\n",
    "titanic_df.groupBy(['pclass', 'sex']).agg(avg('Survived').alias('survival_rate')).show()"
   ]
  },
  {
   "cell_type": "code",
   "execution_count": 13,
   "id": "6a3612ae",
   "metadata": {},
   "outputs": [
    {
     "data": {
      "image/png": "[encoded data removed]",
      "text/plain": [
       "<Figure size 432x288 with 1 Axes>"
      ]
     },
     "metadata": {
      "needs_background": "light"
     },
     "output_type": "display_data"
    }
   ],
   "source": [
    "#Visualizing Survival Rate by Gender\n",
    "# Create a new DataFrame with only the Sex and Survived columns and remove null values\n",
    "gender_df = titanic_df.select('Sex', 'Survived').na.drop()\n",
    "\n",
    "# Group by Sex and count the number of survivors/non-survivors\n",
    "grouped_df = gender_df.groupBy('Sex', 'Survived').count()\n",
    "\n",
    "# Convert the DataFrame to a Pandas DataFrame for plotting\n",
    "pandas_df = grouped_df.toPandas()\n",
    "\n",
    "# Create a stacked bar chart\n",
    "pandas_df.pivot(index='Sex', columns='Survived', values='count').plot(kind='bar', stacked=True)\n",
    "plt.title('Survival Rate by Gender')\n",
    "plt.xlabel('Gender')\n",
    "plt.ylabel('Count')\n",
    "plt.show()"
   ]
  },
  {
   "cell_type": "code",
   "execution_count": 14,
   "id": "078e3973",
   "metadata": {},
   "outputs": [
    {
     "name": "stdout",
     "output_type": "stream",
     "text": [
      "+---------+-------------------+\n",
      "|age_group|      survival_rate|\n",
      "+---------+-------------------+\n",
      "|    adult|0.36118251928020567|\n",
      "|    child| 0.5398230088495575|\n",
      "+---------+-------------------+\n",
      "\n"
     ]
    }
   ],
   "source": [
    "# Survival rate by age group:\n",
    "from pyspark.sql.functions import when\n",
    "titanic_df.select('age', 'Survived').withColumn('age_group', when(titanic_df.Age < 18, 'child').otherwise('adult')).groupBy('age_group').agg(avg('survived').alias('survival_rate')).show()"
   ]
  },
  {
   "cell_type": "code",
   "execution_count": 15,
   "id": "e46fa79b",
   "metadata": {},
   "outputs": [
    {
     "data": {
      "image/png": "[encoded data removed]",
      "text/plain": [
       "<Figure size 432x288 with 1 Axes>"
      ]
     },
     "metadata": {
      "needs_background": "light"
     },
     "output_type": "display_data"
    }
   ],
   "source": [
    "#Visualize the survival rate by age using a line chart:\n",
    "age_survival_rates = titanic_df.select('age', 'survived').groupBy('age').agg(avg('survived').alias('survival_rate')).orderBy('age').rdd.collect()\n",
    "x = [row['age'] for row in age_survival_rates]\n",
    "y = [row['survival_rate'] for row in age_survival_rates]\n",
    "plt.plot(x, y)\n",
    "plt.show()"
   ]
  },
  {
   "cell_type": "code",
   "execution_count": 16,
   "id": "beb149ed",
   "metadata": {},
   "outputs": [
    {
     "name": "stdout",
     "output_type": "stream",
     "text": [
      "+--------+-----+\n",
      "|embarked|count|\n",
      "+--------+-----+\n",
      "|       Q|   77|\n",
      "|    null|    2|\n",
      "|       C|  168|\n",
      "|       S|  644|\n",
      "+--------+-----+\n",
      "\n"
     ]
    }
   ],
   "source": [
    "#Count the number of passengers by embarkation port:\n",
    "titanic_df.groupBy('embarked').agg(count('passengerid').alias('count')).show()"
   ]
  },
  {
   "cell_type": "markdown",
   "id": "4e9f10e0",
   "metadata": {},
   "source": [
    "# Conclusion:\n",
    "In conclusion, PySpark provides a powerful framework for performing queries on big data sets. Some key points to keep in mind when working with PySpark include understanding the Spark architecture, using DataFrame and SQL APIs for querying, optimizing performance with caching and partitioning, and monitoring job progress with Spark UI."
   ]
  }
 ],
 "metadata": {
  "kernelspec": {
   "display_name": "Python 3 (ipykernel)",
   "language": "python",
   "name": "python3"
  },
  "language_info": {
   "codemirror_mode": {
    "name": "ipython",
    "version": 3
   },
   "file_extension": ".py",
   "mimetype": "text/x-python",
   "name": "python",
   "nbconvert_exporter": "python",
   "pygments_lexer": "ipython3",
   "version": "3.9.12"
  }
 },
 "nbformat": 4,
 "nbformat_minor": 5
}
