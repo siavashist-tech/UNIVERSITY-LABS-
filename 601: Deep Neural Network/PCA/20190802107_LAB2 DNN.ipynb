{
 "cells": [
  {
   "cell_type": "markdown",
   "id": "bc3b151b",
   "metadata": {},
   "source": [
    "# **DNN - Experiment 02**\n",
    "\n",
    "*    **SIA VASHIST**\n",
    "*    PRN: 20190802107\n",
    "\n",
    "---"
   ]
  },
  {
   "cell_type": "markdown",
   "id": "d0a6c905",
   "metadata": {},
   "source": [
    "# Dataset : Iris\n",
    "---"
   ]
  },
  {
   "cell_type": "code",
   "execution_count": 1,
   "id": "dfa34513",
   "metadata": {},
   "outputs": [],
   "source": [
    "import pandas as pd\n",
    "import numpy as np\n",
    "from sklearn.datasets import load_iris\n",
    "from sklearn.preprocessing import StandardScaler\n",
    "\n",
    "# Load the data\n",
    "iris = load_iris()"
   ]
  },
  {
   "cell_type": "code",
   "execution_count": 2,
   "id": "a5c4830e",
   "metadata": {
    "scrolled": true
   },
   "outputs": [
    {
     "data": {
      "text/html": [
       "<div>\n",
       "<style scoped>\n",
       "    .dataframe tbody tr th:only-of-type {\n",
       "        vertical-align: middle;\n",
       "    }\n",
       "\n",
       "    .dataframe tbody tr th {\n",
       "        vertical-align: top;\n",
       "    }\n",
       "\n",
       "    .dataframe thead th {\n",
       "        text-align: right;\n",
       "    }\n",
       "</style>\n",
       "<table border=\"1\" class=\"dataframe\">\n",
       "  <thead>\n",
       "    <tr style=\"text-align: right;\">\n",
       "      <th></th>\n",
       "      <th>sepal length (cm)</th>\n",
       "      <th>sepal width (cm)</th>\n",
       "      <th>petal length (cm)</th>\n",
       "      <th>petal width (cm)</th>\n",
       "    </tr>\n",
       "  </thead>\n",
       "  <tbody>\n",
       "    <tr>\n",
       "      <th>0</th>\n",
       "      <td>5.1</td>\n",
       "      <td>3.5</td>\n",
       "      <td>1.4</td>\n",
       "      <td>0.2</td>\n",
       "    </tr>\n",
       "    <tr>\n",
       "      <th>1</th>\n",
       "      <td>4.9</td>\n",
       "      <td>3.0</td>\n",
       "      <td>1.4</td>\n",
       "      <td>0.2</td>\n",
       "    </tr>\n",
       "    <tr>\n",
       "      <th>2</th>\n",
       "      <td>4.7</td>\n",
       "      <td>3.2</td>\n",
       "      <td>1.3</td>\n",
       "      <td>0.2</td>\n",
       "    </tr>\n",
       "    <tr>\n",
       "      <th>3</th>\n",
       "      <td>4.6</td>\n",
       "      <td>3.1</td>\n",
       "      <td>1.5</td>\n",
       "      <td>0.2</td>\n",
       "    </tr>\n",
       "    <tr>\n",
       "      <th>4</th>\n",
       "      <td>5.0</td>\n",
       "      <td>3.6</td>\n",
       "      <td>1.4</td>\n",
       "      <td>0.2</td>\n",
       "    </tr>\n",
       "    <tr>\n",
       "      <th>...</th>\n",
       "      <td>...</td>\n",
       "      <td>...</td>\n",
       "      <td>...</td>\n",
       "      <td>...</td>\n",
       "    </tr>\n",
       "    <tr>\n",
       "      <th>145</th>\n",
       "      <td>6.7</td>\n",
       "      <td>3.0</td>\n",
       "      <td>5.2</td>\n",
       "      <td>2.3</td>\n",
       "    </tr>\n",
       "    <tr>\n",
       "      <th>146</th>\n",
       "      <td>6.3</td>\n",
       "      <td>2.5</td>\n",
       "      <td>5.0</td>\n",
       "      <td>1.9</td>\n",
       "    </tr>\n",
       "    <tr>\n",
       "      <th>147</th>\n",
       "      <td>6.5</td>\n",
       "      <td>3.0</td>\n",
       "      <td>5.2</td>\n",
       "      <td>2.0</td>\n",
       "    </tr>\n",
       "    <tr>\n",
       "      <th>148</th>\n",
       "      <td>6.2</td>\n",
       "      <td>3.4</td>\n",
       "      <td>5.4</td>\n",
       "      <td>2.3</td>\n",
       "    </tr>\n",
       "    <tr>\n",
       "      <th>149</th>\n",
       "      <td>5.9</td>\n",
       "      <td>3.0</td>\n",
       "      <td>5.1</td>\n",
       "      <td>1.8</td>\n",
       "    </tr>\n",
       "  </tbody>\n",
       "</table>\n",
       "<p>150 rows × 4 columns</p>\n",
       "</div>"
      ],
      "text/plain": [
       "     sepal length (cm)  sepal width (cm)  petal length (cm)  petal width (cm)\n",
       "0                  5.1               3.5                1.4               0.2\n",
       "1                  4.9               3.0                1.4               0.2\n",
       "2                  4.7               3.2                1.3               0.2\n",
       "3                  4.6               3.1                1.5               0.2\n",
       "4                  5.0               3.6                1.4               0.2\n",
       "..                 ...               ...                ...               ...\n",
       "145                6.7               3.0                5.2               2.3\n",
       "146                6.3               2.5                5.0               1.9\n",
       "147                6.5               3.0                5.2               2.0\n",
       "148                6.2               3.4                5.4               2.3\n",
       "149                5.9               3.0                5.1               1.8\n",
       "\n",
       "[150 rows x 4 columns]"
      ]
     },
     "execution_count": 2,
     "metadata": {},
     "output_type": "execute_result"
    }
   ],
   "source": [
    "# Convert the dataset to a pandas DataFrame\n",
    "iris_df = pd.DataFrame(data=iris.data, columns=iris.feature_names)\n",
    "iris_df"
   ]
  },
  {
   "cell_type": "code",
   "execution_count": 3,
   "id": "892c487a",
   "metadata": {},
   "outputs": [],
   "source": [
    "# Define a function to perform PCA\n",
    "def perform_pca(data, num_components):\n",
    "    # Standardize the data\n",
    "    scaler = StandardScaler()\n",
    "    scaled_data = scaler.fit_transform(data)\n",
    "\n",
    "    # Compute the covariance matrix\n",
    "    cov_matrix = np.cov(scaled_data.T)\n",
    "\n",
    "    # Compute the eigenvalues and eigenvectors of the covariance matrix\n",
    "    eigenvalues, eigenvectors = np.linalg.eig(cov_matrix)\n",
    "\n",
    "    # Sort the eigenvalues and eigenvectors in descending order of eigenvalues\n",
    "    eigen_pairs = [(np.abs(eigenvalues[i]), eigenvectors[:,i]) for i in range(len(eigenvalues))]\n",
    "    eigen_pairs.sort(reverse=True)\n",
    "\n",
    "    # Select the top k eigenvectors based on the number of components\n",
    "    selected_eigenvectors = np.array([eigen_pairs[i][1] for i in range(num_components)])\n",
    "    pca_data = scaled_data.dot(selected_eigenvectors.T)\n",
    "\n",
    "    # Return the transformed data and the explained variance ratio\n",
    "    explained_variances = eigenvalues / np.sum(eigenvalues)\n",
    "    explained_variances_ratio = explained_variances[:num_components]\n",
    "    return pca_data, explained_variances_ratio"
   ]
  },
  {
   "cell_type": "markdown",
   "id": "3eeb81c4",
   "metadata": {},
   "source": [
    "># Observation:\n",
    "The function first standardizes the data using the StandardScaler class from Scikit-learn, then computes the covariance matrix, eigenvalues, and eigenvectors of the covariance matrix. \n",
    "The function then sorts the eigenvalues and eigenvectors in descending order of eigenvalues and selects the top k eigenvectors based on the number of components. Finally, the function returns the transformed data and the explained variance ratio."
   ]
  },
  {
   "cell_type": "code",
   "execution_count": 4,
   "id": "e5bdf5ea",
   "metadata": {},
   "outputs": [],
   "source": [
    "# Define a function to plot the PCA results\n",
    "import matplotlib.pyplot as plt\n",
    "\n",
    "def plot_pca_results(pca_data, target):\n",
    "    plt.scatter(pca_data[:, 0], pca_data[:, 1], c=target)\n",
    "    plt.xlabel('PC1')\n",
    "    plt.ylabel('PC2')\n",
    "    plt.show()\n",
    "    \n",
    "# Apply PCA to the iris dataset\n",
    "pca_data, explained_variances_ratio = perform_pca(iris_df, 2)"
   ]
  },
  {
   "cell_type": "code",
   "execution_count": 5,
   "id": "726360d9",
   "metadata": {
    "scrolled": false
   },
   "outputs": [
    {
     "data": {
      "image/png": "[encoded data removed]",
      "text/plain": [
       "<Figure size 432x288 with 1 Axes>"
      ]
     },
     "metadata": {
      "needs_background": "light"
     },
     "output_type": "display_data"
    }
   ],
   "source": [
    "# Plot the PCA results\n",
    "plot_pca_results(pca_data, iris.target)\n"
   ]
  },
  {
   "cell_type": "code",
   "execution_count": 6,
   "id": "84a0a6d9",
   "metadata": {
    "scrolled": true
   },
   "outputs": [
    {
     "name": "stdout",
     "output_type": "stream",
     "text": [
      "Explained variance ratio: [0.72962445 0.22850762]\n"
     ]
    }
   ],
   "source": [
    "# Print the explained variance ratio\n",
    "print('Explained variance ratio:', explained_variances_ratio)"
   ]
  },
  {
   "cell_type": "markdown",
   "id": "ac020a3f",
   "metadata": {},
   "source": [
    "># Observation:\n",
    ">The explained variance ratio represents the proportion of the total variance in the original data that is explained by each principal component. This is an important metric to evaluate the effectiveness of the PCA.\n",
    "\n",
    "---"
   ]
  },
  {
   "cell_type": "markdown",
   "id": "62452a53",
   "metadata": {},
   "source": [
    "# Training & Testing:"
   ]
  },
  {
   "cell_type": "code",
   "execution_count": 7,
   "id": "adae556d",
   "metadata": {},
   "outputs": [],
   "source": [
    "from sklearn.model_selection import train_test_split\n",
    "\n",
    "# Split the dataset into training and testing sets\n",
    "X_train, X_test, y_train, y_test = train_test_split(iris_df, iris.target, test_size=0.3, random_state=42)\n"
   ]
  },
  {
   "cell_type": "code",
   "execution_count": 8,
   "id": "1c3096c8",
   "metadata": {},
   "outputs": [
    {
     "data": {
      "image/png": "[encoded data removed]",
      "text/plain": [
       "<Figure size 432x288 with 1 Axes>"
      ]
     },
     "metadata": {
      "needs_background": "light"
     },
     "output_type": "display_data"
    },
    {
     "name": "stdout",
     "output_type": "stream",
     "text": [
      "Explained variance ratio (training set): [0.7070102  0.24507687]\n"
     ]
    }
   ],
   "source": [
    "# Apply PCA to the training set\n",
    "pca_data_train, explained_variances_ratio_train = perform_pca(X_train, 2)\n",
    "\n",
    "# Plot the PCA results for the training set\n",
    "plot_pca_results(pca_data_train, y_train)\n",
    "\n",
    "# Print the explained variance ratio for the training set\n",
    "print('Explained variance ratio (training set):', explained_variances_ratio_train)"
   ]
  },
  {
   "cell_type": "code",
   "execution_count": 9,
   "id": "2e981424",
   "metadata": {},
   "outputs": [
    {
     "data": {
      "image/png": "[encoded data removed]",
      "text/plain": [
       "<Figure size 432x288 with 1 Axes>"
      ]
     },
     "metadata": {
      "needs_background": "light"
     },
     "output_type": "display_data"
    },
    {
     "name": "stdout",
     "output_type": "stream",
     "text": [
      "Explained variance ratio (testing set): [0.78768437 0.18389765]\n"
     ]
    }
   ],
   "source": [
    "# Apply PCA to the testing set\n",
    "pca_data_test, explained_variances_ratio_test = perform_pca(X_test, 2)\n",
    "\n",
    "# Plot the PCA results for the testing set\n",
    "plot_pca_results(pca_data_test, y_test)\n",
    "\n",
    "# Print the explained variance ratio for the testing set\n",
    "print('Explained variance ratio (testing set):', explained_variances_ratio_test)"
   ]
  },
  {
   "cell_type": "markdown",
   "id": "3b360df9",
   "metadata": {},
   "source": [
    "># Observation:\n",
    ">By evaluating the performance of the model on the testing set, we can get a better estimate of how well the model will perform on new, unseen data.\n",
    "\n",
    "---"
   ]
  },
  {
   "cell_type": "markdown",
   "id": "a0d6fdec",
   "metadata": {},
   "source": [
    "# Conclusion:\n",
    "The code demonstrates how to perform PCA on the iris dataset using Scikit-learn and Python. It defines a function to perform PCA and another function to plot the results. The transformed data is plotted using Matplotlib, and the explained variance ratio is printed. The code provides a concise and clear example of PCA implementation, which can be adapted for other datasets and purposes."
   ]
  }
 ],
 "metadata": {
  "kernelspec": {
   "display_name": "Python 3 (ipykernel)",
   "language": "python",
   "name": "python3"
  },
  "language_info": {
   "codemirror_mode": {
    "name": "ipython",
    "version": 3
   },
   "file_extension": ".py",
   "mimetype": "text/x-python",
   "name": "python",
   "nbconvert_exporter": "python",
   "pygments_lexer": "ipython3",
   "version": "3.9.12"
  }
 },
 "nbformat": 4,
 "nbformat_minor": 5
}
